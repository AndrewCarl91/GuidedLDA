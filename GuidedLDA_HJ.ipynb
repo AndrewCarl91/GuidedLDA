{
  "nbformat": 4,
  "nbformat_minor": 0,
  "metadata": {
    "colab": {
      "name": "GuidedLDA-HJ.ipynb",
      "version": "0.3.2",
      "provenance": [],
      "include_colab_link": true
    },
    "kernelspec": {
      "name": "python2",
      "display_name": "Python 2"
    }
  },
  "cells": [
    {
      "cell_type": "markdown",
      "metadata": {
        "id": "view-in-github",
        "colab_type": "text"
      },
      "source": [
        "<a href=\"https://colab.research.google.com/github/AndrewCarl91/GuidedLDA/blob/master/GuidedLDA_HJ.ipynb\" target=\"_parent\"><img src=\"https://colab.research.google.com/assets/colab-badge.svg\" alt=\"Open In Colab\"/></a>"
      ]
    },
    {
      "metadata": {
        "id": "oIahqS2tr2YH",
        "colab_type": "code",
        "outputId": "27d478d1-9bd4-441a-ec54-f39d4bc42874",
        "colab": {
          "base_uri": "https://localhost:8080/",
          "height": 411
        }
      },
      "cell_type": "code",
      "source": [
        "!pip install guidedlda\n",
        "!pip install lda"
      ],
      "execution_count": 2,
      "outputs": [
        {
          "output_type": "stream",
          "text": [
            "Collecting guidedlda\n",
            "\u001b[?25l  Downloading https://files.pythonhosted.org/packages/f8/ee/6d6e2b3525388399e12a4482554c7529a5fcf5e99c50a60abaa02894b8bf/guidedlda-2.0.0.dev22.tar.gz (2.1MB)\n",
            "\u001b[K    100% |████████████████████████████████| 2.1MB 9.2MB/s \n",
            "\u001b[?25hRequirement already satisfied: numpy in /usr/local/lib/python2.7/dist-packages (from guidedlda) (1.16.2)\n",
            "Building wheels for collected packages: guidedlda\n",
            "  Building wheel for guidedlda (setup.py) ... \u001b[?25ldone\n",
            "\u001b[?25h  Stored in directory: /root/.cache/pip/wheels/cf/cb/c4/95897cbe4e2e12bd01db3c5cb004c744d2cfd68ecc692ce39e\n",
            "Successfully built guidedlda\n",
            "Installing collected packages: guidedlda\n",
            "Successfully installed guidedlda-2.0.0.dev22\n",
            "Collecting lda\n",
            "\u001b[?25l  Downloading https://files.pythonhosted.org/packages/7b/9f/4c429a39477333ca96a0a3a49de04e55756b6128be272c2600e31783f09a/lda-1.1.0-cp27-cp27mu-manylinux1_x86_64.whl (346kB)\n",
            "\u001b[K    100% |████████████████████████████████| 348kB 25.0MB/s \n",
            "\u001b[?25hRequirement already satisfied: numpy<2.0,>=1.13.0 in /usr/local/lib/python2.7/dist-packages (from lda) (1.16.2)\n",
            "Collecting pbr<4,>=0.6 (from lda)\n",
            "\u001b[?25l  Downloading https://files.pythonhosted.org/packages/0c/5d/b077dbf309993d52c1d71e6bf6fe443a8029ea215135ebbe0b1b10e7aefc/pbr-3.1.1-py2.py3-none-any.whl (99kB)\n",
            "\u001b[K    100% |████████████████████████████████| 102kB 28.8MB/s \n",
            "\u001b[?25hInstalling collected packages: pbr, lda\n",
            "  Found existing installation: pbr 5.1.3\n",
            "    Uninstalling pbr-5.1.3:\n",
            "      Successfully uninstalled pbr-5.1.3\n",
            "Successfully installed lda-1.1.0 pbr-3.1.1\n"
          ],
          "name": "stdout"
        }
      ]
    },
    {
      "metadata": {
        "id": "7H3XdxPmr8hN",
        "colab_type": "code",
        "colab": {}
      },
      "cell_type": "code",
      "source": [
        "import numpy as np\n",
        "import guidedlda\n",
        "import pandas as pd\n",
        "import openpyxl"
      ],
      "execution_count": 0,
      "outputs": []
    },
    {
      "metadata": {
        "id": "jh7fL8cGRQXj",
        "colab_type": "text"
      },
      "cell_type": "markdown",
      "source": [
        "##***온라인  Github 저장 위치에서 불러오기***"
      ]
    },
    {
      "metadata": {
        "id": "ze5Uvuq8r94S",
        "colab_type": "code",
        "outputId": "dc48daa7-ef10-4b29-a1c6-7d8d60fe36c5",
        "colab": {
          "base_uri": "https://localhost:8080/",
          "height": 1105
        }
      },
      "cell_type": "code",
      "source": [
        "url = 'https://github.com/fastbat/RBook/raw/master/test.xlsx'\n",
        "df = pd.read_excel(url, names=['text'])\n",
        "print(df)"
      ],
      "execution_count": 9,
      "outputs": [
        {
          "output_type": "stream",
          "text": [
            "                                                   text\n",
            "0     TF-TRT: Improve logAdd more information to the...\n",
            "1                R1.11i need to build tensorflow  v1.11\n",
            "2     Python API documentation fixesThis PR fixes so...\n",
            "3     Add RCCL package and ops.These contributed RCC...\n",
            "4     Bugfix: remove first arg instead of `self`Bugf...\n",
            "5     Abs, Ceil ops for TFLITECEIL basic ops for ten...\n",
            "6     Add float16 support for tf.qrThis fix tries to...\n",
            "7     Updated PR for \\Fold BN after depthwise conv\\(...\n",
            "8     Preventing crash when building with local MKLP...\n",
            "9     [TFLite] Add options for benchmark_model and l...\n",
            "10    Fix deprecated divWhile running test I noticed...\n",
            "11    update mklml version to make it consistent wit...\n",
            "12    Enable while_loop to support timeoutThis PR fi...\n",
            "13    Add option to disable ncclIn platforms like em...\n",
            "14                    Add helloNo description provided.\n",
            "15    fix tf.Saver save and restore bug under distri...\n",
            "16                   Update graph_transformations.htypo\n",
            "17    [tflite] set eigen threads to 0 when recommend...\n",
            "18    Fixed technical issues with README.mdImproved ...\n",
            "19    Fix #22455.RdmaAdapter is allocated outside of...\n",
            "20    CMake build updateI am trying to separate chan...\n",
            "21    Add example to import_meta_graph docstringBase...\n",
            "22    Fixed link path \\apis.md\\Improvement of link d...\n",
            "23               Update README.mdimproving readability.\n",
            "24    Fix a TypeErrorWe cannot concatenate string an...\n",
            "25    [Intel MKL] Quantized (int8) Pooling SupportTh...\n",
            "26    fix spelling errorfix spelling error for docum...\n",
            "27    [Bug fix]fix bug of reusing MirroredVariables ...\n",
            "28    Fix paths used in scriptFix paths used in scri...\n",
            "29    Fix issue in expanding of mask in keras.backen...\n",
            "...                                                 ...\n",
            "9103  Allows IndexedSlices to be fed and fetched.Add...\n",
            "9104  Update contribution section in README.mdWe now...\n",
            "9105  Create convolutional.pyAn example from expert ...\n",
            "9106  Update mnist_softmax.pyClosing the interactive...\n",
            "9107  Enable building with GPU support under OS X.Th...\n",
            "9108  Change needed in indexThe url to mnist.py here...\n",
            "9109  Update MNIST Beginner tutorialThe MNIST data i...\n",
            "9110  Fix array padding typo in docsNo description p...\n",
            "9111  Add targets to build libtensorflow.so and libt...\n",
            "9112            fix typo in docNo description provided.\n",
            "9113  Fix compatibility with CUDA Compute Capability...\n",
            "9114  Fix for issue #117: allow relative paths for t...\n",
            "9115  Replace cuda R2 references with R3pulling hack...\n",
            "9116  Correct links to rnn and sequence-to-sequence ...\n",
            "9117  Fix typoThere's a comma missing in the list of...\n",
            "9118  Minor change for tutorial.Added a session clos...\n",
            "9119  Minor change for read consistency. (Highlight ...\n",
            "9120  Switch int to uint to remove some warningselim...\n",
            "9121  Change test set in mnist demo to use batches t...\n",
            "9122  Complete the loop before returning the wordsTh...\n",
            "9123  Changes to word2vec_basic.pyThe routine return...\n",
            "9124  AlexNet with FC layers: backward is very slow?...\n",
            "9125  Fix 'Fetches' example in basic_usageneed 窶和s s...\n",
            "9126  Fix when installation on OSXUpdate the instruc...\n",
            "9127                    Fix #89No description provided.\n",
            "9128  fixed link to tutorial and some typosNo descri...\n",
            "9129  Try to convert to readable latexI'm sure what ...\n",
            "9130   Javascript -> JavaScriptNo description provided.\n",
            "9131  Updated links in documentation.No description ...\n",
            "9132                   [doc] typoIts JavaScript, google\n",
            "\n",
            "[9133 rows x 1 columns]\n"
          ],
          "name": "stdout"
        }
      ]
    },
    {
      "metadata": {
        "id": "nHDsoS7EQ62F",
        "colab_type": "text"
      },
      "cell_type": "markdown",
      "source": [
        "##*** 로컬에서 파일을 Colab으로 업로드 후 불러오기 - Excel 파일***"
      ]
    },
    {
      "metadata": {
        "id": "TOHMySgXQtCF",
        "colab_type": "code",
        "colab": {
          "base_uri": "https://localhost:8080/",
          "height": 1105
        },
        "outputId": "61ab9ee6-c176-42a7-f859-56d42c1b3e75"
      },
      "cell_type": "code",
      "source": [
        "print(df)"
      ],
      "execution_count": 10,
      "outputs": [
        {
          "output_type": "stream",
          "text": [
            "                                                   text\n",
            "0     TF-TRT: Improve logAdd more information to the...\n",
            "1                R1.11i need to build tensorflow  v1.11\n",
            "2     Python API documentation fixesThis PR fixes so...\n",
            "3     Add RCCL package and ops.These contributed RCC...\n",
            "4     Bugfix: remove first arg instead of `self`Bugf...\n",
            "5     Abs, Ceil ops for TFLITECEIL basic ops for ten...\n",
            "6     Add float16 support for tf.qrThis fix tries to...\n",
            "7     Updated PR for \\Fold BN after depthwise conv\\(...\n",
            "8     Preventing crash when building with local MKLP...\n",
            "9     [TFLite] Add options for benchmark_model and l...\n",
            "10    Fix deprecated divWhile running test I noticed...\n",
            "11    update mklml version to make it consistent wit...\n",
            "12    Enable while_loop to support timeoutThis PR fi...\n",
            "13    Add option to disable ncclIn platforms like em...\n",
            "14                    Add helloNo description provided.\n",
            "15    fix tf.Saver save and restore bug under distri...\n",
            "16                   Update graph_transformations.htypo\n",
            "17    [tflite] set eigen threads to 0 when recommend...\n",
            "18    Fixed technical issues with README.mdImproved ...\n",
            "19    Fix #22455.RdmaAdapter is allocated outside of...\n",
            "20    CMake build updateI am trying to separate chan...\n",
            "21    Add example to import_meta_graph docstringBase...\n",
            "22    Fixed link path \\apis.md\\Improvement of link d...\n",
            "23               Update README.mdimproving readability.\n",
            "24    Fix a TypeErrorWe cannot concatenate string an...\n",
            "25    [Intel MKL] Quantized (int8) Pooling SupportTh...\n",
            "26    fix spelling errorfix spelling error for docum...\n",
            "27    [Bug fix]fix bug of reusing MirroredVariables ...\n",
            "28    Fix paths used in scriptFix paths used in scri...\n",
            "29    Fix issue in expanding of mask in keras.backen...\n",
            "...                                                 ...\n",
            "9103  Allows IndexedSlices to be fed and fetched.Add...\n",
            "9104  Update contribution section in README.mdWe now...\n",
            "9105  Create convolutional.pyAn example from expert ...\n",
            "9106  Update mnist_softmax.pyClosing the interactive...\n",
            "9107  Enable building with GPU support under OS X.Th...\n",
            "9108  Change needed in indexThe url to mnist.py here...\n",
            "9109  Update MNIST Beginner tutorialThe MNIST data i...\n",
            "9110  Fix array padding typo in docsNo description p...\n",
            "9111  Add targets to build libtensorflow.so and libt...\n",
            "9112            fix typo in docNo description provided.\n",
            "9113  Fix compatibility with CUDA Compute Capability...\n",
            "9114  Fix for issue #117: allow relative paths for t...\n",
            "9115  Replace cuda R2 references with R3pulling hack...\n",
            "9116  Correct links to rnn and sequence-to-sequence ...\n",
            "9117  Fix typoThere's a comma missing in the list of...\n",
            "9118  Minor change for tutorial.Added a session clos...\n",
            "9119  Minor change for read consistency. (Highlight ...\n",
            "9120  Switch int to uint to remove some warningselim...\n",
            "9121  Change test set in mnist demo to use batches t...\n",
            "9122  Complete the loop before returning the wordsTh...\n",
            "9123  Changes to word2vec_basic.pyThe routine return...\n",
            "9124  AlexNet with FC layers: backward is very slow?...\n",
            "9125  Fix 'Fetches' example in basic_usageneed 窶和s s...\n",
            "9126  Fix when installation on OSXUpdate the instruc...\n",
            "9127                    Fix #89No description provided.\n",
            "9128  fixed link to tutorial and some typosNo descri...\n",
            "9129  Try to convert to readable latexI'm sure what ...\n",
            "9130   Javascript -> JavaScriptNo description provided.\n",
            "9131  Updated links in documentation.No description ...\n",
            "9132                   [doc] typoIts JavaScript, google\n",
            "\n",
            "[9133 rows x 1 columns]\n"
          ],
          "name": "stdout"
        }
      ]
    },
    {
      "metadata": {
        "id": "Q6Xo1RMWObQw",
        "colab_type": "code",
        "colab": {}
      },
      "cell_type": "code",
      "source": [
        "import numpy as np\n",
        "import guidedlda\n",
        "import pandas as pd\n",
        "import openpyxl"
      ],
      "execution_count": 0,
      "outputs": []
    },
    {
      "metadata": {
        "id": "-J4-fZO8Ocxp",
        "colab_type": "code",
        "colab": {
          "base_uri": "https://localhost:8080/",
          "height": 34
        },
        "outputId": "cb60fb37-d0cd-45b2-bf64-02841b8cf295"
      },
      "cell_type": "code",
      "source": [
        "print(df.shape)"
      ],
      "execution_count": 11,
      "outputs": [
        {
          "output_type": "stream",
          "text": [
            "(9133, 1)\n"
          ],
          "name": "stdout"
        }
      ]
    },
    {
      "metadata": {
        "id": "PHCdZdKuPUme",
        "colab_type": "code",
        "colab": {
          "base_uri": "https://localhost:8080/",
          "height": 34
        },
        "outputId": "c8c886a7-a21d-42c7-cbaf-d53b765b3fbe"
      },
      "cell_type": "code",
      "source": [
        "print(df.sum())"
      ],
      "execution_count": 12,
      "outputs": [
        {
          "output_type": "stream",
          "text": [
            "Series([], dtype: float64)\n"
          ],
          "name": "stdout"
        }
      ]
    },
    {
      "metadata": {
        "id": "yRpVG093P5uI",
        "colab_type": "code",
        "colab": {}
      },
      "cell_type": "code",
      "source": [
        "vocab = guidedlda.datasets.load_vocab(guidedlda.datasets.NYT) #vocab 구성하는 방법 찾기"
      ],
      "execution_count": 0,
      "outputs": []
    },
    {
      "metadata": {
        "id": "iX2pEKe1P7g7",
        "colab_type": "code",
        "colab": {}
      },
      "cell_type": "code",
      "source": [
        "word2id = dict((v, idx) for idx, v in enumerate(vocab))"
      ],
      "execution_count": 0,
      "outputs": []
    },
    {
      "metadata": {
        "id": "qhHn1gdiPZ7X",
        "colab_type": "code",
        "colab": {}
      },
      "cell_type": "code",
      "source": [
        "# Guided LDA with seed topics. \n",
        "# Seed word: ASC <20으로 유사하게 설정\n",
        "seed_topic_list = [['fix', 'update', 'typo', 'version', 'release', 'add', 'typos','minor','fixed','notes','docs','updating','code','xla','readme','documentation','branch','error','image'], #Software development,\n",
        "                   ['build', 'windows', 'cmake', 'model', 'tests', 'disable', 'support', 'file','make','bazel','input','builds','ops','compilation','mnist','keras','estimator','use','dataset'], #Project,\n",
        "                   ['mkl', 'link', 'intel', 'broken', 'opencl', 'dnn','docker','tutorial','graph','test','install','remove','example','gpu','cuda','pip','links','adding','python','batch','tensorflow','softmax'], #Ecosystem,\n",
        "                   ['merge', 'msater', 'changes', 'pull', 'internal', 'reuqest', 'back', 'upstream', 'github', 'cherrpicks', 'merging', 'push', 'testing', 'revert', 'issues']] #Users\n",
        "\n",
        "model = guidedlda.GuidedLDA(n_topics=4, n_iter=100, random_state=7, refresh=20)"
      ],
      "execution_count": 0,
      "outputs": []
    },
    {
      "metadata": {
        "id": "Tv0C_ZYiP-PA",
        "colab_type": "code",
        "colab": {
          "base_uri": "https://localhost:8080/",
          "height": 198
        },
        "outputId": "eb5a246e-91f9-48b1-ca35-f5594a356481"
      },
      "cell_type": "code",
      "source": [
        "seed_topics = {}\n",
        "for t_id, st in enumerate(seed_topic_list):\n",
        "    for word in st:\n",
        "        seed_topics[word2id[word]] = t_id"
      ],
      "execution_count": 19,
      "outputs": [
        {
          "output_type": "error",
          "ename": "KeyError",
          "evalue": "ignored",
          "traceback": [
            "\u001b[0;31m\u001b[0m",
            "\u001b[0;31mKeyError\u001b[0mTraceback (most recent call last)",
            "\u001b[0;32m<ipython-input-19-775f7d3fcd1d>\u001b[0m in \u001b[0;36m<module>\u001b[0;34m()\u001b[0m\n\u001b[1;32m      2\u001b[0m \u001b[0;32mfor\u001b[0m \u001b[0mt_id\u001b[0m\u001b[0;34m,\u001b[0m \u001b[0mst\u001b[0m \u001b[0;32min\u001b[0m \u001b[0menumerate\u001b[0m\u001b[0;34m(\u001b[0m\u001b[0mseed_topic_list\u001b[0m\u001b[0;34m)\u001b[0m\u001b[0;34m:\u001b[0m\u001b[0;34m\u001b[0m\u001b[0m\n\u001b[1;32m      3\u001b[0m     \u001b[0;32mfor\u001b[0m \u001b[0mword\u001b[0m \u001b[0;32min\u001b[0m \u001b[0mst\u001b[0m\u001b[0;34m:\u001b[0m\u001b[0;34m\u001b[0m\u001b[0m\n\u001b[0;32m----> 4\u001b[0;31m         \u001b[0mseed_topics\u001b[0m\u001b[0;34m[\u001b[0m\u001b[0mword2id\u001b[0m\u001b[0;34m[\u001b[0m\u001b[0mword\u001b[0m\u001b[0;34m]\u001b[0m\u001b[0;34m]\u001b[0m \u001b[0;34m=\u001b[0m \u001b[0mt_id\u001b[0m\u001b[0;34m\u001b[0m\u001b[0m\n\u001b[0m",
            "\u001b[0;31mKeyError\u001b[0m: 'typo'"
          ]
        }
      ]
    }
  ]
}