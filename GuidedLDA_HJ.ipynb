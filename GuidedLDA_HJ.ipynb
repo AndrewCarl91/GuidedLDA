{
  "nbformat": 4,
  "nbformat_minor": 0,
  "metadata": {
    "colab": {
      "name": "GuidedLDA-HJ.ipynb",
      "version": "0.3.2",
      "provenance": [],
      "include_colab_link": true
    },
    "kernelspec": {
      "name": "python2",
      "display_name": "Python 2"
    }
  },
  "cells": [
    {
      "cell_type": "markdown",
      "metadata": {
        "id": "view-in-github",
        "colab_type": "text"
      },
      "source": [
        "<a href=\"https://colab.research.google.com/github/AndrewCarl91/GuidedLDA/blob/master/GuidedLDA_HJ.ipynb\" target=\"_parent\"><img src=\"https://colab.research.google.com/assets/colab-badge.svg\" alt=\"Open In Colab\"/></a>"
      ]
    },
    {
      "metadata": {
        "id": "oIahqS2tr2YH",
        "colab_type": "code",
        "outputId": "27d478d1-9bd4-441a-ec54-f39d4bc42874",
        "colab": {
          "base_uri": "https://localhost:8080/",
          "height": 411
        }
      },
      "cell_type": "code",
      "source": [
        "!pip install guidedlda\n",
        "!pip install lda"
      ],
      "execution_count": 2,
      "outputs": [
        {
          "output_type": "stream",
          "text": [
            "Collecting guidedlda\n",
            "\u001b[?25l  Downloading https://files.pythonhosted.org/packages/f8/ee/6d6e2b3525388399e12a4482554c7529a5fcf5e99c50a60abaa02894b8bf/guidedlda-2.0.0.dev22.tar.gz (2.1MB)\n",
            "\u001b[K    100% |████████████████████████████████| 2.1MB 9.2MB/s \n",
            "\u001b[?25hRequirement already satisfied: numpy in /usr/local/lib/python2.7/dist-packages (from guidedlda) (1.16.2)\n",
            "Building wheels for collected packages: guidedlda\n",
            "  Building wheel for guidedlda (setup.py) ... \u001b[?25ldone\n",
            "\u001b[?25h  Stored in directory: /root/.cache/pip/wheels/cf/cb/c4/95897cbe4e2e12bd01db3c5cb004c744d2cfd68ecc692ce39e\n",
            "Successfully built guidedlda\n",
            "Installing collected packages: guidedlda\n",
            "Successfully installed guidedlda-2.0.0.dev22\n",
            "Collecting lda\n",
            "\u001b[?25l  Downloading https://files.pythonhosted.org/packages/7b/9f/4c429a39477333ca96a0a3a49de04e55756b6128be272c2600e31783f09a/lda-1.1.0-cp27-cp27mu-manylinux1_x86_64.whl (346kB)\n",
            "\u001b[K    100% |████████████████████████████████| 348kB 25.0MB/s \n",
            "\u001b[?25hRequirement already satisfied: numpy<2.0,>=1.13.0 in /usr/local/lib/python2.7/dist-packages (from lda) (1.16.2)\n",
            "Collecting pbr<4,>=0.6 (from lda)\n",
            "\u001b[?25l  Downloading https://files.pythonhosted.org/packages/0c/5d/b077dbf309993d52c1d71e6bf6fe443a8029ea215135ebbe0b1b10e7aefc/pbr-3.1.1-py2.py3-none-any.whl (99kB)\n",
            "\u001b[K    100% |████████████████████████████████| 102kB 28.8MB/s \n",
            "\u001b[?25hInstalling collected packages: pbr, lda\n",
            "  Found existing installation: pbr 5.1.3\n",
            "    Uninstalling pbr-5.1.3:\n",
            "      Successfully uninstalled pbr-5.1.3\n",
            "Successfully installed lda-1.1.0 pbr-3.1.1\n"
          ],
          "name": "stdout"
        }
      ]
    },
    {
      "metadata": {
        "id": "7H3XdxPmr8hN",
        "colab_type": "code",
        "colab": {}
      },
      "cell_type": "code",
      "source": [
        "import numpy as np\n",
        "import guidedlda\n",
        "import pandas as pd\n",
        "import openpyxl"
      ],
      "execution_count": 0,
      "outputs": []
    },
    {
      "metadata": {
        "id": "jh7fL8cGRQXj",
        "colab_type": "text"
      },
      "cell_type": "markdown",
      "source": [
        "##***온라인  Github 저장 위치에서 불러오기***"
      ]
    },
    {
      "metadata": {
        "id": "ze5Uvuq8r94S",
        "colab_type": "code",
        "outputId": "dc48daa7-ef10-4b29-a1c6-7d8d60fe36c5",
        "colab": {
          "base_uri": "https://localhost:8080/",
          "height": 1105
        }
      },
      "cell_type": "code",
      "source": [
        "url = 'https://github.com/fastbat/RBook/raw/master/test.xlsx'\n",
        "df = pd.read_excel(url, names=['text'])\n",
        "print(df)"
      ],
      "execution_count": 9,
      "outputs": [
        {
          "output_type": "stream",
          "text": [
            "                                                   text\n",
            "0     TF-TRT: Improve logAdd more information to the...\n",
            "1                R1.11i need to build tensorflow  v1.11\n",
            "2     Python API documentation fixesThis PR fixes so...\n",
            "3     Add RCCL package and ops.These contributed RCC...\n",
            "4     Bugfix: remove first arg instead of `self`Bugf...\n",
            "5     Abs, Ceil ops for TFLITECEIL basic ops for ten...\n",
            "6     Add float16 support for tf.qrThis fix tries to...\n",
            "7     Updated PR for \\Fold BN after depthwise conv\\(...\n",
            "8     Preventing crash when building with local MKLP...\n",
            "9     [TFLite] Add options for benchmark_model and l...\n",
            "10    Fix deprecated divWhile running test I noticed...\n",
            "11    update mklml version to make it consistent wit...\n",
            "12    Enable while_loop to support timeoutThis PR fi...\n",
            "13    Add option to disable ncclIn platforms like em...\n",
            "14                    Add helloNo description provided.\n",
            "15    fix tf.Saver save and restore bug under distri...\n",
            "16                   Update graph_transformations.htypo\n",
            "17    [tflite] set eigen threads to 0 when recommend...\n",
            "18    Fixed technical issues with README.mdImproved ...\n",
            "19    Fix #22455.RdmaAdapter is allocated outside of...\n",
            "20    CMake build updateI am trying to separate chan...\n",
            "21    Add example to import_meta_graph docstringBase...\n",
            "22    Fixed link path \\apis.md\\Improvement of link d...\n",
            "23               Update README.mdimproving readability.\n",
            "24    Fix a TypeErrorWe cannot concatenate string an...\n",
            "25    [Intel MKL] Quantized (int8) Pooling SupportTh...\n",
            "26    fix spelling errorfix spelling error for docum...\n",
            "27    [Bug fix]fix bug of reusing MirroredVariables ...\n",
            "28    Fix paths used in scriptFix paths used in scri...\n",
            "29    Fix issue in expanding of mask in keras.backen...\n",
            "...                                                 ...\n",
            "9103  Allows IndexedSlices to be fed and fetched.Add...\n",
            "9104  Update contribution section in README.mdWe now...\n",
            "9105  Create convolutional.pyAn example from expert ...\n",
            "9106  Update mnist_softmax.pyClosing the interactive...\n",
            "9107  Enable building with GPU support under OS X.Th...\n",
            "9108  Change needed in indexThe url to mnist.py here...\n",
            "9109  Update MNIST Beginner tutorialThe MNIST data i...\n",
            "9110  Fix array padding typo in docsNo description p...\n",
            "9111  Add targets to build libtensorflow.so and libt...\n",
            "9112            fix typo in docNo description provided.\n",
            "9113  Fix compatibility with CUDA Compute Capability...\n",
            "9114  Fix for issue #117: allow relative paths for t...\n",
            "9115  Replace cuda R2 references with R3pulling hack...\n",
            "9116  Correct links to rnn and sequence-to-sequence ...\n",
            "9117  Fix typoThere's a comma missing in the list of...\n",
            "9118  Minor change for tutorial.Added a session clos...\n",
            "9119  Minor change for read consistency. (Highlight ...\n",
            "9120  Switch int to uint to remove some warningselim...\n",
            "9121  Change test set in mnist demo to use batches t...\n",
            "9122  Complete the loop before returning the wordsTh...\n",
            "9123  Changes to word2vec_basic.pyThe routine return...\n",
            "9124  AlexNet with FC layers: backward is very slow?...\n",
            "9125  Fix 'Fetches' example in basic_usageneed 窶和s s...\n",
            "9126  Fix when installation on OSXUpdate the instruc...\n",
            "9127                    Fix #89No description provided.\n",
            "9128  fixed link to tutorial and some typosNo descri...\n",
            "9129  Try to convert to readable latexI'm sure what ...\n",
            "9130   Javascript -> JavaScriptNo description provided.\n",
            "9131  Updated links in documentation.No description ...\n",
            "9132                   [doc] typoIts JavaScript, google\n",
            "\n",
            "[9133 rows x 1 columns]\n"
          ],
          "name": "stdout"
        }
      ]
    },
    {
      "metadata": {
        "id": "nHDsoS7EQ62F",
        "colab_type": "text"
      },
      "cell_type": "markdown",
      "source": [
        "##*** 로컬에서 파일을 Colab으로 업로드 후 불러오기 - Excel 파일***"
      ]
    },
    {
      "metadata": {
        "id": "TOHMySgXQtCF",
        "colab_type": "code",
        "colab": {
          "base_uri": "https://localhost:8080/",
          "height": 1105
        },
        "outputId": "61ab9ee6-c176-42a7-f859-56d42c1b3e75"
      },
      "cell_type": "code",
      "source": [
        "print(df)"
      ],
      "execution_count": 10,
      "outputs": [
        {
          "output_type": "stream",
          "text": [
            "                                                   text\n",
            "0     TF-TRT: Improve logAdd more information to the...\n",
            "1                R1.11i need to build tensorflow  v1.11\n",
            "2     Python API documentation fixesThis PR fixes so...\n",
            "3     Add RCCL package and ops.These contributed RCC...\n",
            "4     Bugfix: remove first arg instead of `self`Bugf...\n",
            "5     Abs, Ceil ops for TFLITECEIL basic ops for ten...\n",
            "6     Add float16 support for tf.qrThis fix tries to...\n",
            "7     Updated PR for \\Fold BN after depthwise conv\\(...\n",
            "8     Preventing crash when building with local MKLP...\n",
            "9     [TFLite] Add options for benchmark_model and l...\n",
            "10    Fix deprecated divWhile running test I noticed...\n",
            "11    update mklml version to make it consistent wit...\n",
            "12    Enable while_loop to support timeoutThis PR fi...\n",
            "13    Add option to disable ncclIn platforms like em...\n",
            "14                    Add helloNo description provided.\n",
            "15    fix tf.Saver save and restore bug under distri...\n",
            "16                   Update graph_transformations.htypo\n",
            "17    [tflite] set eigen threads to 0 when recommend...\n",
            "18    Fixed technical issues with README.mdImproved ...\n",
            "19    Fix #22455.RdmaAdapter is allocated outside of...\n",
            "20    CMake build updateI am trying to separate chan...\n",
            "21    Add example to import_meta_graph docstringBase...\n",
            "22    Fixed link path \\apis.md\\Improvement of link d...\n",
            "23               Update README.mdimproving readability.\n",
            "24    Fix a TypeErrorWe cannot concatenate string an...\n",
            "25    [Intel MKL] Quantized (int8) Pooling SupportTh...\n",
            "26    fix spelling errorfix spelling error for docum...\n",
            "27    [Bug fix]fix bug of reusing MirroredVariables ...\n",
            "28    Fix paths used in scriptFix paths used in scri...\n",
            "29    Fix issue in expanding of mask in keras.backen...\n",
            "...                                                 ...\n",
            "9103  Allows IndexedSlices to be fed and fetched.Add...\n",
            "9104  Update contribution section in README.mdWe now...\n",
            "9105  Create convolutional.pyAn example from expert ...\n",
            "9106  Update mnist_softmax.pyClosing the interactive...\n",
            "9107  Enable building with GPU support under OS X.Th...\n",
            "9108  Change needed in indexThe url to mnist.py here...\n",
            "9109  Update MNIST Beginner tutorialThe MNIST data i...\n",
            "9110  Fix array padding typo in docsNo description p...\n",
            "9111  Add targets to build libtensorflow.so and libt...\n",
            "9112            fix typo in docNo description provided.\n",
            "9113  Fix compatibility with CUDA Compute Capability...\n",
            "9114  Fix for issue #117: allow relative paths for t...\n",
            "9115  Replace cuda R2 references with R3pulling hack...\n",
            "9116  Correct links to rnn and sequence-to-sequence ...\n",
            "9117  Fix typoThere's a comma missing in the list of...\n",
            "9118  Minor change for tutorial.Added a session clos...\n",
            "9119  Minor change for read consistency. (Highlight ...\n",
            "9120  Switch int to uint to remove some warningselim...\n",
            "9121  Change test set in mnist demo to use batches t...\n",
            "9122  Complete the loop before returning the wordsTh...\n",
            "9123  Changes to word2vec_basic.pyThe routine return...\n",
            "9124  AlexNet with FC layers: backward is very slow?...\n",
            "9125  Fix 'Fetches' example in basic_usageneed 窶和s s...\n",
            "9126  Fix when installation on OSXUpdate the instruc...\n",
            "9127                    Fix #89No description provided.\n",
            "9128  fixed link to tutorial and some typosNo descri...\n",
            "9129  Try to convert to readable latexI'm sure what ...\n",
            "9130   Javascript -> JavaScriptNo description provided.\n",
            "9131  Updated links in documentation.No description ...\n",
            "9132                   [doc] typoIts JavaScript, google\n",
            "\n",
            "[9133 rows x 1 columns]\n"
          ],
          "name": "stdout"
        }
      ]
    },
    {
      "metadata": {
        "id": "Q6Xo1RMWObQw",
        "colab_type": "code",
        "colab": {}
      },
      "cell_type": "code",
      "source": [
        "import numpy as np\n",
        "import guidedlda\n",
        "import pandas as pd\n",
        "import openpyxl"
      ],
      "execution_count": 0,
      "outputs": []
    },
    {
      "metadata": {
        "id": "dDwU8z0KSKkc",
        "colab_type": "text"
      },
      "cell_type": "markdown",
      "source": [
        "##**Guided LDA 분석 기초**##"
      ]
    },
    {
      "metadata": {
        "id": "-J4-fZO8Ocxp",
        "colab_type": "code",
        "colab": {
          "base_uri": "https://localhost:8080/",
          "height": 34
        },
        "outputId": "cb60fb37-d0cd-45b2-bf64-02841b8cf295"
      },
      "cell_type": "code",
      "source": [
        "print(df.shape)"
      ],
      "execution_count": 11,
      "outputs": [
        {
          "output_type": "stream",
          "text": [
            "(9133, 1)\n"
          ],
          "name": "stdout"
        }
      ]
    },
    {
      "metadata": {
        "id": "PHCdZdKuPUme",
        "colab_type": "code",
        "colab": {
          "base_uri": "https://localhost:8080/",
          "height": 34
        },
        "outputId": "c8c886a7-a21d-42c7-cbaf-d53b765b3fbe"
      },
      "cell_type": "code",
      "source": [
        "print(df.sum())"
      ],
      "execution_count": 12,
      "outputs": [
        {
          "output_type": "stream",
          "text": [
            "Series([], dtype: float64)\n"
          ],
          "name": "stdout"
        }
      ]
    },
    {
      "metadata": {
        "id": "yRpVG093P5uI",
        "colab_type": "code",
        "colab": {
          "base_uri": "https://localhost:8080/",
          "height": 34
        },
        "outputId": "9cec3877-7fb1-4c12-cac4-45f0cf7d0d2a"
      },
      "cell_type": "code",
      "source": [
        "vocab = guidedlda.datasets.load_vocab(guidedlda.datasets.NYT) #vocab 구성하는 방법 찾기\n",
        "type(guidedlda.datasets.NYT)"
      ],
      "execution_count": 30,
      "outputs": [
        {
          "output_type": "execute_result",
          "data": {
            "text/plain": [
              "unicode"
            ]
          },
          "metadata": {
            "tags": []
          },
          "execution_count": 30
        }
      ]
    },
    {
      "metadata": {
        "id": "iX2pEKe1P7g7",
        "colab_type": "code",
        "colab": {
          "base_uri": "https://localhost:8080/",
          "height": 54
        },
        "outputId": "097a2d76-fc35-4e13-8363-bc403dfdda7b"
      },
      "cell_type": "code",
      "source": [
        "word2id = dict((v, idx) for idx, v in enumerate(vocab)) #의미 찾기"
      ],
      "execution_count": 22,
      "outputs": [
        {
          "output_type": "stream",
          "text": [
            "{'inning': 936, 'limited': 1761, 'personally': 2662, 'yellow': 1909, 'four': 869, 'protest': 861, 'sleep': 1666, 'asian': 1923, 'controversial': 2395, 'captain': 2489, 'hate': 1772, 'forget': 1319, 'looking': 2834, 'voter': 528, 'founder': 1361, 'aug': 1056, 'eligible': 2503, 'electricity': 2115, 'teaching': 2173, 'sorry': 2888, 'pride': 2271, 'worth': 727, 'merchant': 1806, 'lure': 2729, 'risk': 439, 'rise': 152, 'foul': 2403, 'govern': 1775, 'affect': 891, 'vast': 1593, 'school': 9, 'scholar': 2189, 'investigator': 1091, 'wooden': 2530, 'stun': 2927, 'solution': 1230, 'enhance': 2486, 'triumph': 2500, 'clothes': 1396, 'enjoy': 969, 'force': 63, 'tired': 2478, 'consistent': 2592, 'direct': 437, 'nail': 1754, 'elegant': 2746, 'second': 25, 'street': 237, 'writing': 1947, 'blue': 697, 'employ': 1800, 'disk': 2264, 'hide': 1781, 'integrity': 2842, 'cooking': 2258, 'orchestra': 2000, 'spokesman': 346, 'conduct': 545, 'net': 908, 'officially': 2772, 'specialist': 1777, 'hero': 1643, 'reporter': 563, 'met': 882, 'protection': 1289, 'studio': 1209, 'pursuit': 2752, 'active': 1484, 'path': 1802, 'interpret': 2769, 'violate': 1313, 'dry': 1166, 'balance': 1128, 'daughter': 459, 'auction': 1312, 'study': 139, 'economics': 2446, 'controversy': 2031, 'credit': 499, 'smoke': 1395, 'permit': 942, 'military': 188, 'punishment': 2397, 'mutual': 2142, 'criticism': 1176, 'golden': 2431, 'invasion': 2143, 'divide': 1133, 'campaign': 132, 'replace': 626, 'county': 701, 'visible': 2464, 'moral': 1665, 'total': 431, 'unit': 434, 'plot': 1694, 'army': 1161, 'hospital': 469, 'motivate': 2599, 'negative': 1654, 'music': 138, 'asset': 1087, 'dns': 587, 'recommend': 1301, 'strike': 357, 'survive': 1964, 'type': 766, 'tell': 18, 'preparation': 2275, 'relax': 2471, 'successful': 905, 'expose': 1921, 'award': 1027, 'hurt': 1039, 'warn': 917, 'phone': 635, 'warm': 1185, 'adult': 995, 'smile': 1334, 'hole': 1045, 'hold': 62, 'origin': 2633, 'shoot': 458, 'join': 392, 'room': 130, 'rights': 2312, 'pursue': 1202, 'gasoline': 1884, 'roof': 1823, 'locker': 2567, 'obstacle': 2750, 'era': 1226, 'install': 1515, 'root': 1342, 'transition': 2302, 'estate': 728, 'household': 1718, 'organized': 2658, 'involve': 234, 'currency': 1846, 'caution': 2250, 'premium': 2244, 'organizer': 2283, 'attract': 961, 'guarantee': 1150, 'ceremony': 1262, 'sideline': 2739, 'recovery': 2032, 'turn': 51, 'provide': 96, 'travel': 418, 'feature': 574, 'machine': 700, 'hot': 810, 'rookie': 2045, 'interview': 259, 'disappoint': 2448, 'ordinary': 2014, 'beach': 1490, 'aboard': 2761, 'badly': 2144, 'regional': 1222, 'minority': 1017, 'beauty': 2059, 'earlier': 530, 'wrong': 665, 'lay': 1240, 'president': 33, 'law': 48, 'promotion': 2185, 'purchase': 843, 'attempt': 557, 'third': 124, 'amid': 2034, 'appreciate': 2279, 'headquarters': 1373, 'greet': 2531, 'scare': 2758, 'maintain': 715, 'green': 739, 'ultimate': 2606, 'enter': 506, 'democratic': 383, 'order': 167, 'wind': 997, 'wine': 699, 'restriction': 1848, 'interpretation': 2709, 'office': 81, 'devote': 1795, 'vary': 1980, 'innovative': 2916, 'hook': 2743, 'mayor': 1086, 'bombing': 1641, 'fit': 1227, 'personal': 456, 'fix': 1570, 'striking': 2294, 'crew': 1652, 'production': 364, 'compelling': 2873, 'encounter': 1751, 'fade': 2618, 'carve': 2882, 'overcome': 2170, 'emphasize': 1526, 'eventually': 864, 'coffee': 1871, 'tourist': 1836, 'combination': 1517, 'spray': 2668, 'weakness': 2588, 'safe': 988, 'misstate': 2855, 'elementary': 2694, 'break': 204, 'band': 782, 'strategic': 2363, 'rental': 2361, 'silver': 1441, 'bank': 235, 'bread': 1856, 'meat': 1510, 'debut': 1991, 'explode': 2969, 'affiliate': 2914, 'victory': 292, 'reasonable': 2138, 'side': 168, 'bone': 2383, 'mean': 146, 'prohibit': 2095, 'financial': 320, 'fairly': 2215, 'series': 289, 'aide': 794, 'carry': 261, 'trading': 808, 'laboratory': 2270, 'ring': 1411, 'contend': 1038, 'network': 535, 'crucial': 1586, 'content': 1611, 'encourage': 833, 'adapt': 2820, 'reader': 1357, 'medicine': 1750, 'surprise': 753, 'newly': 1660, 'size': 596, 'forth': 2452, 'independence': 1985, 'foundation': 1682, 'perception': 2529, 'barrier': 1927, 'associate': 550, 'veto': 2015, 'free': 129, 'standard': 402, 'ancient': 2319, 'struggle': 653, 'estimate': 517, 'storm': 1585, 'publication': 1982, 'enormous': 1732, 'refugee': 1685, 'oppose': 724, 'signature': 2840, 'loud': 2458, 'overnight': 2803, 'user': 1219, 'industrial': 999, 'render': 2809, 'researcher': 1063, 'primary': 884, 'rank': 1285, 'hearing': 675, 'restrict': 2288, 'fantasy': 2568, 'thick': 2085, 'electronic': 1460, 'illustrate': 1913, 'basketball': 1130, 'fence': 2564, 'service': 78, 'plains': 2328, 'top': 172, 'historian': 1946, 'fiction': 2049, 'master': 1024, 'percentage': 1328, 'cycle': 2429, 'bitter': 2432, 'listen': 1114, 'urban': 1345, 'ceiling': 2007, 'murder': 831, 'collapse': 1300, 'haunt': 2991, 'tool': 1773, 'serve': 144, 'japanese': 489, 'western': 755, 'evil': 2367, 'distance': 1367, 'anxiety': 2527, 'target': 1029, 'fabric': 2667, 'tree': 877, 'likely': 342, 'nations': 546, 'project': 200, 'matter': 288, 'persuade': 1452, 'endure': 2733, 'historical': 1545, 'profitable': 2906, 'feeling': 849, 'brilliant': 2836, 'acquisition': 1655, 'bridge': 1182, 'fashion': 852, 'willingness': 2980, 'runner': 2058, 'modern': 811, 'mind': 442, 'mine': 1862, 'raw': 2566, 'seed': 1819, 'manner': 1817, 'obviously': 1644, 'seek': 215, 'alive': 2030, 'dozen': 620, 'affairs': 2510, 'strength': 1267, 'secure': 1681, 'hispanic': 1541, 'climate': 2399, 'latter': 2998, 'responsible': 1263, 'snow': 1989, 'oriented': 2905, 'chest': 2719, 'client': 856, 'luxury': 2535, 'shelf': 2894, 'quarterback': 1253, 'acquire': 868, 'object': 1040, 'regular': 874, 'mouth': 2220, 'letter': 370, 'entry': 1702, 'phase': 2097, 'grave': 2731, 'singer': 1258, 'episode': 1742, 'observation': 2884, 'professor': 584, 'camp': 1025, 'flow': 1042, 'dog': 1178, 'reputation': 1442, 'tech': 2677, 'principle': 1738, 'sun': 1920, 'voting': 1861, 'consumer': 516, 'notion': 1731, 'dot': 2837, 'reserve': 1339, 'advisory': 2589, 'bomb': 1088, 'inspire': 1709, 'visitor': 1129, 'retire': 585, 'anniversary': 1968, 'radio': 772, 'participate': 1528, 'earth': 1877, 'bail': 2821, 'busy': 1783, 'headline': 2647, 'menu': 1809, 'explain': 435, 'unemployment': 1934, 'sugar': 1710, 'theme': 1100, 'rich': 895, 'announce': 232, 'adequate': 2974, 'personality': 2188, 'predecessor': 2616, 'plate': 1553, 'assignment': 2583, 'mixture': 2023, 'colorful': 2864, 'endorse': 2106, 'watch': 375, 'perceive': 2468, 'preferred': 2977, 'coast': 2240, 'pocket': 1870, 'despite': 401, 'report': 22, 'tribute': 2898, 'unfortunately': 2263, 'earn': 676, 'bar': 657, 'method': 1365, 'bag': 1331, 'bad': 205, 'troop': 684, 'ban': 857, 'implication': 2725, 'steal': 1502, 'steam': 2738, 'secretary': 1242, 'respond': 711, 'human': 423, 'fair': 1101, 'habit': 2465, 'testing': 1689, 'resist': 2209, 'result': 142, 'fail': 348, 'best': 1966, 'subject': 512, 'capacity': 1830, 'away': 158, 'freeze': 2357, 'score': 228, 'finger': 2348, 'cooperation': 2280, 'approach': 460, 'discovery': 2366, 'preserve': 1487, 'discipline': 2296, 'accord': 133, 'extend': 1055, 'nature': 1015, 'confusion': 2756, 'handful': 2070, 'weak': 1792, 'boss': 2027, 'retirement': 1635, 'wear': 476, 'extent': 2228, 'news': 145, 'debt': 839, 'improve': 576, 'protect': 624, 'accident': 1257, 'brown': 1868, 'country': 24, 'ill': 1784, 'uncertainty': 2576, 'planned': 2661, 'receiver': 1536, 'distinction': 2935, 'contribution': 1290, 'argue': 472, 'negotiation': 816, 'pre': 1616, 'presumably': 2541, 'tough': 730, 'height': 2786, 'illness': 2012, 'initiative': 1820, 'trust': 1255, 'speak': 239, 'conference': 491, 'beef': 2248, 'basis': 1041, 'union': 278, 'three': 440, 'tiny': 1562, 'quickly': 589, 'subsidy': 2304, 'commission': 455, 'beer': 1930, 'interest': 178, 'basic': 1051, 'celebration': 1591, 'correction': 2123, 'location': 1472, 'life': 21, 'innocent': 2651, 'eastern': 2010, 'dismiss': 1084, 'worker': 226, 'lift': 1388, 'child': 20, 'catch': 556, 'spin': 2278, 'physician': 1863, 'exception': 2130, 'east': 1020, 'tank': 2056, 'conviction': 2041, 'publicly': 1663, 'teenager': 2107, 'air': 396, 'aim': 1163, 'suppose': 1155, 'aid': 601, 'property': 508, 'elaborate': 2331, 'procedure': 1271, 'mistake': 1119, 'upgrade': 2871, 'seven': 2022, 'dictate': 3000, 'player': 103, 'disappear': 2108, 'borough': 2484, 'perform': 376, 'suggest': 247, 'format': 2701, 'wound': 1417, 'airport': 1340, 'complex': 795, 'potentially': 2254, 'split': 1657, 'evaluate': 2581, 'vegetable': 1677, 'indictment': 2326, 'couple': 447, 'european': 668, 'wheel': 2082, 'independent': 773, 'satellite': 1912, 'raid': 2461, 'pick': 505, 'hang': 1083, 'rain': 1667, 'hand': 165, 'delight': 2602, 'suburb': 2001, 'depict': 2442, 'ownership': 2624, 'opportunity': 549, 'tune': 2182, 'kid': 652, 'butter': 1790, 'specialize': 2042, 'shortly': 1816, 'academic': 1504, 'contact': 1159, 'mother': 252, 'corporate': 708, 'musical': 897, 'left': 682, 'birth': 2004, 'sentence': 904, 'photo': 2104, 'distribute': 1656, 'unfair': 2734, 'identify': 669, 'farther': 2996, 'victim': 630, 'previous': 713, 'dining': 2103, 'unique': 2555, 'candidate': 319, 'instance': 1031, 'photographer': 1978, 'ease': 1579, 'character': 417, 'emphasis': 2438, 'shout': 2416, 'spread': 975, 'board': 174, 'easy': 412, 'prison': 629, 'consideration': 2126, 'save': 582, 'hat': 2398, 'designate': 2285, 'shoulder': 1700, 'municipal': 2176, 'skeptical': 2822, 'disagreement': 2954, 'possible': 354, 'arab': 1383, 'possibly': 1632, 'cultural': 1149, 'background': 1599, 'destroy': 1250, 'judge': 313, 'shadow': 2186, 'highly': 1006, 'rumor': 2320, 'apart': 1690, 'desire': 1463, 'psychological': 2525, 'gift': 1139, 'hunt': 2857, 'specific': 1032, 'remind': 1675, 'officer': 169, 'night': 65, 'security': 236, 'antique': 2548, 'attorney': 1252, 'old': 43, 'deal': 104, 'successfully': 2813, 'elderly': 1204, 'election': 216, 'escape': 1653, 'multiple': 2154, 'guess': 1713, 'securities': 1614, 'proceeding': 2226, 'clash': 2477, 'bottom': 1278, 'armed': 1998, 'opposite': 2201, 'ice': 1456, 'creative': 1744, 'landscape': 1405, 'convict': 1306, 'participation': 2792, 'holiday': 1245, 'bold': 2728, 'marketing': 1003, 'payment': 930, 'pose': 1506, 'discount': 1351, 'confrontation': 2410, 'defensive': 1386, 'peer': 2450, 'brokerage': 2472, 'post': 514, 'manufacturing': 1837, 'bury': 2327, 'chapter': 1970, 'palestinian': 834, 'donation': 2072, 'surround': 1158, 'magazine': 659, 'dedicate': 2789, 'plus': 1324, 'afternoon': 748, 'commit': 957, 'palestinians': 1413, 'slightly': 1154, 'consulting': 2897, 'presence': 1081, 'civil': 761, 'float': 2919, 'intellectual': 2286, 'son': 324, 'accommodate': 2710, 'prisoner': 1476, 'wrap': 2552, 'rely': 1469, 'crowd': 598, 'support': 92, 'initial': 1308, 'legislation': 911, 'transform': 1854, 'gallery': 1070, 'clinical': 2298, 'editor': 290, 'war': 153, 'happy': 899, 'head': 114, 'medium': 511, 'form': 249, 'offer': 56, 'discourage': 2870, 'failure': 993, 'heat': 1012, 'hear': 267, 'dead': 870, 'surrender': 2455, 'true': 687, 'analyst': 374, 'counsel': 1296, 'array': 2814, 'assessment': 2120, 'inside': 627, 'bargain': 2330, 'decorate': 2593, 'emotional': 1621, 'accelerate': 2778, 'trim': 2309, 'passenger': 1288, 'proud': 2169, 'liberal': 1218, 'classic': 1370, 'upset': 1701, 'wealthy': 2128, 'tournament': 1214, 'overhaul': 2771, 'drive': 231, 'exist': 972, 'fashioned': 2886, 'prayer': 2705, 'accounting': 1734, 'ship': 1050, 'tooth': 2147, 'dealer': 1147, 'physical': 1236, 'floor': 414, 'stake': 1082, 'tip': 2053, 'actor': 979, 'reality': 1298, 'flood': 2066, 'interested': 1089, 'role': 296, 'holding': 1821, 'digital': 1535, 'test': 269, 'tie': 735, 'roll': 982, 'picture': 559, 'intend': 608, 'brothers': 2148, 'welcome': 1098, 'update': 2590, 'journey': 2800, 'intent': 2318, 'businessman': 2659, 'humor': 2440, 'aware': 1509, 'weekend': 538, 'careful': 2343, 'billion': 1997, 'afford': 1725, 'regime': 2443, 'longer': 572, 'bullet': 2795, 'glass': 956, 'assume': 1135, 'typically': 1873, 'daily': 938, 'jacket': 2253, 'rough': 2586, 'reception': 2391, 'push': 560, 'serious': 561, 'lineup': 2721, 'basically': 2355, 'detective': 1776, 'coach': 314, 'chain': 1167, 'impression': 2415, 'dance': 473, 'skip': 2847, 'global': 1274, 'datum': 776, 'focus': 397, 'invent': 2902, 'manager': 293, 'mile': 355, 'skin': 2329, 'battle': 591, 'chair': 1434, 'milk': 2151, 'row': 1480, 'certainly': 734, 'suicide': 1745, 'depend': 1071, 'zone': 1349, 'technique': 1440, 'father': 218, 'passage': 1763, 'environment': 1232, 'iraqi': 783, 'charge': 88, 'rhythm': 2352, 'terror': 2610, 'retreat': 2600, 'adviser': 966, 'massive': 2955, 'chorus': 2945, 'string': 1829, 'advantage': 963, 'choice': 480, 'liability': 2513, 'cook': 1044, 'word': 272, 'trouble': 733, 'blast': 2490, 'exact': 3006, 'minute': 154, 'cool': 1511, 'aggressively': 2990, 'impressive': 2193, 'level': 206, 'tear': 1468, 'die': 300, 'dig': 2504, 'brother': 806, 'item': 1207, 'settle': 931, 'subway': 1451, 'team': 28, 'quick': 1213, 'guy': 463, 'dip': 2865, 'round': 395, 'prevent': 797, 'spiritual': 2770, 'revolution': 2160, 'hell': 2879, 'regret': 2797, 'core': 1798, 'trend': 1420, 'discover': 945, 'sign': 143, 'cost': 86, 'advocacy': 2794, 'fear': 450, 'substitute': 2498, 'educate': 2323, 'appear': 147, 'assistance': 1673, 'mall': 2233, 'debate': 493, 'current': 310, 'suspect': 939, 'international': 430, 'appeal': 490, 'corn': 2272, 'terrorism': 1897, 'satisfy': 2101, 'burn': 1865, 'jury': 781, 'troubled': 2409, 'funeral': 2145, 'muslim': 1955, 'french': 611, 'understanding': 1687, 'water': 233, 'pause': 2645, 'baseball': 641, 'address': 605, 'subtle': 2833, 'teacher': 507, 'change': 38, 'wait': 387, 'box': 866, 'boy': 583, 'boast': 2958, 'canadian': 1707, 'healthy': 1630, 'shift': 827, 'guilty': 1256, 'bow': 2688, 'trial': 404, 'suggestion': 1891, 'emerge': 887, 'love': 277, 'extra': 983, 'merely': 1886, 'prefer': 1722, 'memorable': 2997, 'touchdown': 1507, 'rarely': 1796, 'crisis': 913, 'market': 34, 'everybody': 1156, 'wealth': 2693, 'working': 2388, 'prove': 632, 'positive': 1210, 'angry': 2009, 'visit': 285, 'intense': 1957, 'live': 72, 'memory': 1152, 'prosecutor': 722, 'commissioner': 1372, 'fierce': 2913, 'club': 474, 'acceptable': 2967, 'apparent': 1987, 'downtown': 1277, 'fuel': 1043, 'visual': 2615, 'effort': 141, 'communist': 2048, 'behalf': 2335, 'fly': 664, 'car': 155, 'originally': 1768, 'cap': 1765, 'abortion': 481, 'soul': 2061, 'hope': 159, 'making': 2071, 'arrive': 566, 'streak': 1746, 'claim': 470, 'crazy': 2394, 'performer': 1999, 'figure': 244, 'predict': 1140, 'attribute': 2131, 'chip': 1581, 'arise': 2551, 'agent': 520, 'sample': 1950, 'critic': 638, 'council': 1739, 'phrase': 1984, 'offense': 1280, 'provoke': 2716, 'clothing': 2117, 'occur': 759, 'pink': 2462, 'winter': 1102, 'discussion': 915, 'dinner': 762, 'write': 70, 'vital': 2742, 'fourth': 519, 'ensure': 2766, 'economy': 388, 'map': 1715, 'product': 328, 'designer': 976, 'huge': 696, 'sacrifice': 2200, 'spot': 705, 'lucky': 2646, 'islamic': 2178, 'membership': 2389, 'produce': 248, 'date': 610, 'truly': 1874, 'nomination': 1965, 'grow': 156, 'repeat': 1601, 'man': 6, 'classroom': 2199, 'stress': 1636, 'natural': 929, 'remember': 640, 'conscious': 2931, 'tale': 1674, 'inform': 1915, 'switch': 1589, 'jail': 1295, 'deposit': 2125, 'african': 1282, 'basket': 2359, 'tall': 2052, 'talk': 60, 'typical': 1639, 'disclosure': 2577, 'mainly': 2089, 'damage': 602, 'stability': 2960, 'course': 213, 'pitch': 896, 'equip': 2957, 'cold': 894, 'tendency': 2946, 'police': 67, 'thank': 1325, 'acknowledge': 680, 'interesting': 1513, 'comic': 2526, 'facility': 1582, 'attraction': 2556, 'window': 803, 'suspicion': 2868, 'farmer': 1416, 'policy': 193, 'mail': 1103, 'main': 525, 'gate': 2506, 'non': 2083, 'finance': 692, 'civilian': 1329, 'killer': 2804, 'introduce': 809, 'nation': 196, 'answer': 488, 'half': 95, 'provision': 1499, 'discuss': 548, 'possess': 2968, 'term': 148, 'name': 54, 'opera': 1303, 'resignation': 2102, 'drop': 356, 'rock': 841, 'entirely': 1556, 'quarter': 345, 'square': 1005, 'significantly': 2392, 'sponsor': 846, 'happen': 222, 'description': 2379, 'album': 1224, 'living': 1352, 'ultimately': 1508, 'accomplish': 2307, 'space': 318, 'profit': 615, 'factory': 1238, 'increase': 93, 'seriously': 1717, 'investigation': 496, 'internet': 865, 'formula': 2405, 'dominate': 1523, 'correct': 1692, 'assurance': 2900, 'theory': 1453, 'steep': 2892, 'lawmaker': 1471, 'million': 832, 'seventh': 2090, 'possibility': 901, 'quite': 704, 'complicated': 2629, 'rebel': 1603, 'plea': 2371, 'obligation': 2077, 'inevitable': 2656, 'card': 613, 'care': 189, 'advance': 848, 'training': 751, 'language': 770, 'impose': 1096, 'programming': 2242, 'modest': 1780, 'british': 714, 'honest': 2605, 'motion': 1948, 'thing': 31, 'concrete': 2334, 'place': 23, 'vision': 1304, 'swing': 1625, 'nonprofit': 1818, 'childhood': 2466, 'frequent': 2287, 'adventure': 2597, 'emotion': 2062, 'cheese': 1594, 'suspend': 1688, 'saving': 1124, 'revenue': 720, 'reopen': 2683, 'americans': 337, 'submit': 1832, 'directly': 1160, 'spanish': 1918, 'vote': 150, 'impossible': 1465, 'message': 524, 'fight': 240, 'open': 52, 'tomorrow': 709, 'engineer': 1346, 'city': 7, 'little': 68, 'necessarily': 1990, 'sheet': 2093, 'silent': 2862, 'district': 351, 'bite': 2700, 'plastic': 1622, 'indicate': 801, 'draft': 1018, 'convention': 1549, 'legally': 2874, 'white': 208, 'cite': 860, 'friend': 177, 'excellent': 2134, 'season': 53, 'broadcast': 1094, 'criticize': 1105, 'copy': 1117, 'population': 729, 'wide': 660, 'television': 173, 'analyze': 2807, 'effective': 1057, 'rival': 1194, 'require': 209, 'diplomatic': 2075, 'recruit': 1858, 'spokeswoman': 1374, 'future': 298, 'venture': 1500, 'outcome': 2088, 'prospect': 1409, 'gathering': 2784, 'register': 1944, 'pro': 1048, 'seal': 2542, 'argument': 1127, 'sad': 2652, 'rent': 919, 'anger': 1604, 'breakfast': 2207, 'recover': 1369, 'publicity': 2726, 'offering': 1437, 'efficient': 2856, 'veteran': 1173, 'aside': 1273, 'note': 199, 'equipment': 886, 'ideal': 2259, 'potential': 667, 'roster': 2848, 'online': 1521, 'interior': 2229, 'performance': 275, 'wonder': 825, 'channel': 1538, 'urge': 998, 'sure': 426, 'pain': 1421, 'trace': 2208, 'normal': 1580, 'track': 616, 'price': 47, 'specialty': 2724, 'assault': 1355, 'pair': 1323, 'knee': 1664, 'america': 2829, 'mainstream': 2891, 'peaceful': 2970, 'forever': 2501, 'operate': 419, 'surprising': 2046, 'egg': 1444, 'average': 312, 'adopt': 1205, 'steady': 2084, 'sale': 131, 'mrs': 171, 'pattern': 1265, 'professional': 800, 'senior': 255, 'salt': 1347, 'filing': 2387, 'repeatedly': 1650, 'shop': 732, 'rating': 1064, 'superior': 2869, 'shot': 551, 'german': 916, 'cheap': 1555, 'contemporary': 1402, 'merit': 2712, 'bright': 1459, 'shoe': 1924, 'corner': 986, 'aggressive': 1629, 'forecast': 2777, 'fifth': 1184, 'ground': 340, 'slow': 647, 'title': 619, 'deck': 2497, 'proportion': 2640, 'pump': 2423, 'crime': 405, 'wood': 1233, 'black': 122, 'hockey': 2324, 'outrage': 2941, 'enthusiasm': 2411, 'congressional': 1261, 'dispute': 875, 'ranking': 2239, 'explosion': 2293, 'assistant': 736, 'jazz': 1046, 'expectation': 1758, 'mission': 1097, 'outlet': 2561, 'celebrate': 1557, 'prime': 1389, 'reveal': 1208, 'resource': 1387, 'artist': 332, 'leather': 2727, 'borrow': 2232, 'yield': 779, 'morning': 452, 'scientist': 838, 'husband': 648, 'concert': 910, 'burst': 2687, 'physically': 2950, 'statistic': 2029, 'seat': 621, 'relative': 1358, 'college': 358, 'parking': 1483, 'surgery': 1706, 'sport': 527, 'concern': 191, 'israeli': 740, 'mortgage': 1503, 'federal': 468, 'subsequent': 2953, 'review': 531, 'label': 1228, 'outside': 327, 'import': 1401, 'reading': 1350, 'ought': 2460, 'arrival': 2627, 'notice': 1137, 'parent': 294, 'screen': 867, 'supermarket': 2420, 'killing': 1494, 'blame': 1177, 'concentrate': 2024, 'spare': 2467, 'unusually': 2988, 'article': 485, 'spark': 2875, 'undermine': 2580, 'recall': 642, 'reaction': 1221, 'installation': 2412, 'talented': 2947, 'residence': 2181, 'region': 586, 'quiet': 1446, 'contract': 291, 'called': 1857, 'tour': 670, 'disappointment': 2903, 'senator': 1431, 'expression': 1951, 'nearby': 1079, 'duty': 1165, 'capable': 2347, 'cancer': 941, 'color': 597, 'period': 385, 'pop': 1095, 'accusation': 1716, 'exploit': 2962, 'anti': 813, 'approval': 1036, 'cancel': 1973, 'poll': 952, 'boat': 1422, 'unusual': 1080, 'teammate': 1925, 'resort': 1853, 'stretch': 1069, 'west': 880, 'rebuild': 2140, 'vacation': 1771, 'concede': 2113, 'mark': 654, 'acre': 1628, 'helicopter': 2522, 'hardly': 1435, 'engine': 1642, 'direction': 968, 'enable': 2051, 'shopping': 1335, 'thousand': 554, 'dangerous': 1564, 'dramatic': 1815, 'wake': 2155, 'minister': 990, 'instant': 2823, 'evidence': 421, 'spirit': 1371, 'pilot': 1320, 'case': 17, 'consultant': 1220, 'mount': 1595, 'cash': 786, 'trick': 2172, 'cast': 775, 'diverse': 2730, 'weaken': 2653, 'editorial': 1488, 'newspaper': 532, 'situation': 588, 'margin': 2141, 'trader': 1983, 'determination': 2981, 'soil': 2161, 'mill': 2776, 'telephone': 522, 'commander': 1760, 'middle': 533, 'sudden': 2400, 'embrace': 1910, 'somebody': 1935, 'technology': 427, 'worry': 603, 'different': 201, 'develop': 317, 'harsh': 2718, 'considerable': 2202, 'author': 695, 'pay': 39, 'bowl': 1890, 'check': 609, 'speech': 712, 'reminder': 2982, 'document': 691, 'status': 1125, 'finish': 416, 'assist': 1461, 'driver': 792, 'companion': 2844, 'director': 55, 'running': 2907, 'fruit': 1747, 'widespread': 2098, 'delicate': 2811, 'advertisement': 1907, 'consensus': 2563, 'totally': 2337, 'tradition': 1246, 'drain': 2245, 'theater': 523, 'largely': 925, 'constitutional': 1592, 'roughly': 1782, 'severe': 1697, 'solve': 1852, 'relief': 1243, 'bottle': 1575, 'communications': 2206, 'coordinate': 2603, 'model': 568, 'reward': 2419, 'justify': 2290, 'summer': 349, 'outdoor': 2648, 'money': 49, 'rest': 521, 'civic': 2623, 'sweeping': 2732, 'violent': 1724, 'kill': 258, 'handed': 2817, 'aspect': 1779, 'touch': 921, 'flavor': 1808, 'speed': 814, 'weekly': 2238, 'blow': 1191, 'announcement': 1376, 'death': 211, 'hint': 2375, 'thinking': 2655, 'improvement': 1482, 'instrument': 1834, 'setting': 1928, 'pile': 2584, 'treatment': 785, 'extensive': 2255, 'momentum': 2911, 'real': 176, 'ambitious': 2306, 'spectacular': 2713, 'read': 406, 'dark': 1136, 'inflation': 1385, 'traffic': 881, 'insist': 791, 'world': 45, 'railroad': 2247, 'recipient': 2230, 'calculate': 2622, 'rear': 2598, 'furniture': 1498, 'fortune': 2451, 'stranger': 2976, 'collective': 2773, 'pregnant': 2676, 'shrink': 2675, 'annually': 2877, 'chamber': 2044, 'benefit': 308, 'nose': 2338, 'tower': 1993, 'jews': 2191, 'pronounce': 2971, 'competition': 948, 'respect': 1122, 'racial': 1646, 'gross': 2424, 'slice': 1752, 'mood': 2065, 'confirm': 1269, 'noon': 1691, 'legal': 477, 'conservative': 651, 'pioneer': 2872, 'critical': 1062, 'exit': 2265, 'deficit': 1106, 'provider': 2516, 'moderate': 1850, 'refer': 618, 'football': 994, 'assembly': 2237, 'scientific': 1730, 'business': 36, 'intimate': 2942, 'sixth': 1617, 'equivalent': 2252, 'communicate': 2912, 'broker': 1283, 'notably': 2930, 'evolve': 2787, 'leadership': 1016, 'assemble': 2365, 'exciting': 2534, 'throw': 492, 'manufacturer': 1157, 'comparison': 2414, 'stone': 1883, 'central': 765, 'package': 873, 'island': 1174, 'industry': 170, 'violence': 674, 'favorite': 996, 'meaning': 2578, 'meal': 1610, 'chop': 1455, 'tremendous': 2723, 'stand': 229, 'neighbor': 1001, 'testimony': 1180, 'mixed': 2078, 'bond': 425, 'backup': 2793, 'road': 541, 'quietly': 2469, 'communication': 1379, 'image': 462, 'airlines': 1904, 'involvement': 2197, 'lively': 2944, 'determine': 600, 'strip': 1740, 'operator': 1844, 'valuable': 2210, 'stare': 2830, 'legacy': 2852, 'prepare': 448, 'area': 102, 'start': 26, 'low': 110, 'lot': 99, 'fish': 1078, 'complete': 372, 'regard': 935, 'pitcher': 1412, 'cabinet': 2573, 'promote': 922, 'faster': 2512, 'pull': 716, 'rush': 1192, 'waste': 1620, 'romantic': 2342, 'potato': 1791, 'preside': 2961, 'organize': 1120, 'politically': 1981, 'agree': 214, 'connect': 1491, 'strongly': 1894, 'taste': 918, 'describe': 309, 'deep': 658, 'general': 279, 'alarm': 2517, 'examine': 1393, 'deem': 2963, 'enact': 2660, 'file': 443, 'politics': 777, 'film': 184, 'fill': 579, 'deserve': 1972, 'insurance': 593, 'field': 299, 'prise': 2585, 'trash': 2790, 'poor': 503, 'briefly': 2523, 'championship': 1058, 'regardless': 2613, 'separate': 903, 'shelter': 1501, 'symbol': 1804, 'narrative': 2507, 'important': 217, 'peak': 1992, 'coverage': 1362, 'tackle': 2195, 'pool': 1612, 'fiscal': 1364, 'bulk': 2880, 'remote': 2673, 'wife': 380, 'invest': 1406, 'mask': 2619, 'custody': 2463, 'observe': 2011, 'mass': 1151, 'overseas': 2333, 'resolution': 1936, 'original': 656, 'represent': 382, 'consider': 175, 'chinese': 815, 'maximum': 2345, 'suburban': 1961, 'lack': 617, 'dollar': 303, 'concept': 1841, 'deadline': 2222, 'welfare': 1118, 'dish': 1330, 'follow': 194, 'settlement': 1000, 'religious': 893, 'reluctant': 2401, 'apartment': 504, 'remarkable': 2241, 'program': 13, 'painter': 2249, 'health': 202, 'presentation': 2745, 'hill': 2670, 'sound': 305, 'woman': 19, 'appointment': 1859, 'song': 594, 'far': 107, 'fat': 1378, 'toss': 2308, 'personnel': 2149, 'fan': 634, 'minded': 2918, 'decide': 245, 'fall': 98, 'ticket': 494, 'difference': 681, 'condition': 428, 'gov': 2973, 'cable': 1026, 'celebrity': 2453, 'list': 227, 'mild': 2966, 'large': 29, 'adjust': 2354, 'small': 71, 'economically': 2986, 'neighborhood': 444, 'ten': 2303, 'harder': 3010, 'past': 197, 'rate': 97, 'design': 262, 'perspective': 2194, 'lawyer': 162, 'pass': 185, 'investment': 408, 'bass': 2679, 'sue': 1755, 'clock': 1813, 'deeply': 1805, 'section': 756, 'resume': 1847, 'brief': 1249, 'crush': 2796, 'version': 622, 'nurse': 2311, 'public': 30, 'contrast': 1272, 'movement': 543, 'full': 256, 'christian': 2035, 'loose': 2273, 'component': 2396, 'excess': 2554, 'strong': 242, 'tragedy': 2779, 'publisher': 1286, 'search': 673, 'substance': 2445, 'ahead': 787, 'extraordinary': 1833, 'qualify': 1634, 'experience': 341, 'soldier': 738, 'amount': 461, 'advertising': 650, 'social': 449, 'action': 286, 'narrow': 1605, 'authorize': 2759, 'flash': 2292, 'depart': 2915, 'family': 44, 'suddenly': 1337, 'ask': 42, 'sanction': 1736, 'actress': 2642, 'establish': 606, 'select': 1464, 'conventional': 2033, 'eye': 502, 'proceed': 1596, 'injure': 1797, 'two': 344, 'injury': 954, 'minor': 1279, 'teen': 1179, 'flat': 1680, 'flaw': 2802, 'door': 498, 'company': 0, 'surprisingly': 2608, 'excuse': 2536, 'flag': 1467, 'stick': 1195, 'particular': 858, 'known': 1849, 'glad': 3009, 'town': 250, 'hour': 94, 'strain': 1908, 'science': 666, 'coalition': 1552, 'remain': 108, 'nine': 2934, 'learn': 335, 'abandon': 1377, 'male': 1368, 'scramble': 2983, 'history': 192, 'beautiful': 1505, 'compare': 719, 'prompt': 1542, 'division': 685, 'credibility': 2768, 'share': 113, 'accept': 479, 'states': 11, 'minimum': 1576, 'sense': 347, 'sharp': 1292, 'airplane': 2788, 'dress': 799, 'biography': 2707, 'condemn': 2562, 'information': 163, 'court': 126, 'goal': 302, 'comfort': 2939, 'occasionally': 2003, 'reject': 907, 'stir': 1546, 'ensemble': 2520, 'plant': 350, 'circuit': 1963, 'advice': 1584, 'reflect': 707, 'plane': 823, 'lighting': 2780, 'blood': 984, 'faculty': 2225, 'participant': 1623, 'response': 689, 'refuse': 612, 'short': 274, 'resemble': 2344, 'coat': 2057, 'doctor': 352, 'departure': 2080, 'shore': 2223, 'responsibility': 1059, 'fundamental': 2351, 'pleasure': 2204, 'dream': 964, 'playing': 2521, 'turnover': 2594, 'underscore': 2680, 'soon': 420, 'trade': 243, 'disabled': 2054, 'attitude': 1380, 'paper': 453, 'committee': 377, 'existence': 2550, 'suffer': 703, 'developer': 1266, 'romance': 2751, 'style': 394, 'rapidly': 2406, 'taxpayer': 2086, 'greatly': 2641, 'actually': 595, 'late': 89, 'grade': 1060, 'absence': 2358, 'pend': 2735, 'systems': 2630, 'radical': 2067, 'inquiry': 1651, 'soccer': 2393, 'sauce': 1225, 'alter': 2425, 'ally': 1281, 'colleague': 1131, 'evening': 639, 'return': 116, 'calm': 2428, 'severely': 2987, 'food': 270, 'propose': 464, 'underground': 2559, 'compound': 2434, 'foot': 295, 'speculate': 3002, 'complain': 927, 'association': 1164, 'mystery': 2156, 'easily': 1189, 'wash': 2579, 'fully': 1343, 'normally': 2163, 'eager': 1988, 'found': 1737, 'button': 2626, 'heavy': 824, 'harm': 2295, 'mental': 1723, 'weight': 1321, 'generation': 879, 'house': 82, 'energy': 743, 'hard': 183, 'reduce': 369, 'idea': 238, 'gun': 840, 'oil': 251, 'expect': 83, 'anonymity': 2251, 'operation': 393, 'event': 287, 'really': 187, 'flower': 1291, 'alcohol': 1901, 'testify': 1268, 'publish': 661, 'research': 360, 'safety': 717, 'longtime': 1609, 'premiere': 2574, 'print': 1270, 'issue': 27, 'highway': 1726, 'belief': 1749, 'circumstance': 1975, 'horse': 872, 'lesser': 2926, 'difficulty': 1684, 'reason': 264, 'base': 111, 'imagine': 1567, 'put': 50, 'teach': 768, 'beginning': 1229, 'generate': 1403, 'temperature': 1942, 'definition': 2221, 'launch': 2353, 'similarly': 2663, 'terrible': 2299, 'enforce': 2281, 'bridegroom': 2068, 'american': 12, 'threat': 742, 'automobile': 2224, 'consequence': 2016, 'undergo': 2509, 'assign': 2180, 'feed': 1559, 'major': 117, 'upper': 1638, 'feel': 87, 'relate': 1381, 'number': 64, 'sympathy': 2839, 'unexpected': 2684, 'traveler': 2064, 'story': 326, 'guest': 1309, 'jet': 1404, 'script': 2685, 'introduction': 2692, 'divorce': 1866, 'shooting': 1432, 'revive': 2274, 'construct': 2681, 'characterize': 2826, 'paint': 977, 'regulation': 1123, 'station': 451, 'identity': 1899, 'statement': 336, 'compromise': 1414, 'hundred': 830, 'store': 212, 'lease': 1647, 'selling': 2757, 'option': 793, 'relationship': 573, 'hotel': 607, 'park': 542, 'immediate': 1633, 'transaction': 2050, 'consult': 2885, 'believe': 119, 'grace': 2933, 'king': 2013, 'kind': 181, 'scheme': 2427, 'rebound': 1640, 'double': 526, 'anticipate': 2382, 'instruction': 2339, 'vocal': 2625, 'youth': 1314, 'bride': 1767, 'stall': 2846, 'marriage': 943, 'taxis': 379, 'declare': 937, 'silence': 2511, 'nominee': 2474, 'outstanding': 2340, 'strengthen': 2370, 'ager': 1937, 'relieve': 2801, 'juice': 1787, 'substantial': 1753, 'alike': 2937, 'vulnerable': 2433, 'sell': 79, 'lie': 767, 'dancing': 2635, 'trip': 590, 'self': 495, 'port': 2650, 'majority': 644, 'internal': 1880, 'chairman': 225, 'finding': 1649, 'pianist': 2456, 'province': 2532, 'play': 3, 'electric': 2114, 'quote': 1493, 'reach': 223, 'chart': 2861, 'react': 2310, 'cigarette': 1933, 'shareholder': 1247, 'plan': 8, 'significant': 844, 'services': 1524, 'wisdom': 2457, 'extremely': 1976, 'achievement': 2376, 'salary': 1065, 'seize': 1658, 'clear': 266, 'popularity': 2502, 'cover': 297, 'traditional': 757, 'artistic': 1683, 'clean': 890, 'weigh': 1941, 'barrel': 2127, 'scholarship': 2609, 'blend': 2284, 'technical': 1578, 'sector': 2087, 'golf': 1093, 'phenomenon': 2810, 'gold': 1092, 'session': 951, 'relation': 883, 'carefully': 1916, 'defender': 2849, 'uniform': 2028, 'fine': 536, 'impact': 926, 'access': 928, 'giant': 1287, 'northern': 1474, 'justice': 1116, 'nervous': 2582, 'ruin': 2636, 'writer': 562, 'assertion': 2621, 'unhappy': 2952, 'penalty': 1047, 'experiment': 1548, 'pretty': 960, 'factor': 1142, 'circle': 1676, 'giants': 1067, 'hit': 195, 'permission': 2755, 'express': 710, 'financing': 1360, 'famous': 1426, 'batter': 2362, 'breast': 1759, 'closely': 1668, 'reply': 1762, 'enemy': 2038, 'resolve': 1353, 'cry': 1842, 'remove': 552, 'banking': 1433, 'investigate': 1107, 'common': 592, 'activity': 645, 'cease': 2417, 'obscure': 2995, 'river': 1597, 'spell': 2838, 'art': 161, 'dump': 2481, 'principal': 1007, 'intelligence': 1023, 'sex': 798, 'culture': 731, 'defense': 411, 'bare': 2799, 'sea': 1531, 'tender': 2246, 'close': 73, 'arm': 534, 'recording': 1563, 'practice': 373, 'expert': 359, 'movie': 321, 'leg': 1231, 'please': 1539, 'architect': 1551, 'donate': 2162, 'numerous': 2413, 'corruption': 2109, 'available': 367, 'solo': 2055, 'recently': 246, 'iron': 2815, 'initially': 2137, 'attention': 529, 'incident': 1115, 'succeed': 1108, 'opposition': 784, 'franchise': 2492, 'observer': 2965, 'league': 643, 'reverse': 1867, 'license': 1495, 'restaurant': 466, 'oversee': 1704, 'annual': 637, 'foreign': 465, 'sensitive': 2040, 'connection': 1143, 'objective': 2741, 'context': 2211, 'residential': 2025, 'poverty': 2205, 'approve': 569, 'load': 2227, 'point': 14, 'simple': 902, 'sweet': 1705, 'loan': 679, 'sweep': 1669, 'community': 220, 'dancer': 1317, 'simply': 555, 'village': 1112, 'bench': 1954, 'expensive': 1198, 'belt': 2686, 'bolster': 2887, 'decline': 316, 'raise': 160, 'stamp': 2118, 'create': 128, 'overlook': 2482, 'political': 75, 'due': 1297, 'strategy': 829, 'secret': 1014, 'lucrative': 3011, 'maintenance': 1785, 'threaten': 878, 'brick': 1895, 'territory': 1537, 'meeting': 198, 'empty': 1807, 'firm': 301, 'dialogue': 2372, 'flight': 959, 'champion': 1113, 'gay': 1110, 'fire': 268, 'crack': 1427, 'gas': 892, 'remark': 1363, 'gap': 1648, 'fund': 224, 'understand': 537, 'representative': 1090, 'demand': 384, 'wedding': 1332, 'loom': 2975, 'politician': 1013, 'solid': 2110, 'warrant': 2473, 'straight': 953, 'bill': 182, 'budget': 257, 'governor': 854, 'admire': 2612, 'pace': 1497, 'replaced': 467, 'kick': 1518, 'behavior': 1338, 'error': 1394, 'fun': 1302, 'guide': 1382, 'pack': 1566, 'exclude': 2422, 'grip': 2921, 'pound': 721, 'costly': 2346, 'century': 484, 'vow': 2069, 'triple': 2266, 'ready': 737, 'rid': 2703, 'chase': 2476, 'funny': 1940, 'regulate': 2854, 'shirt': 1398, 'anymore': 2753, 'grant': 662, 'belong': 1486, 'virtually': 1217, 'widely': 1234, 'grand': 1034, 'advise': 1926, 'relatively': 1201, 'conflict': 1068, 'higher': 2917, 'development': 362, 'literature': 2297, 'temporary': 1864, 'mountain': 1905, 'bonus': 2540, 'comprehensive': 2570, 'yesterday': 35, 'alert': 2544, 'moment': 424, 'traditionally': 2798, 'purpose': 1099, 'recent': 127, 'early': 76, 'lower': 1248, 'task': 1294, 'anybody': 1902, 'analysis': 1408, 'honor': 1326, 'person': 381, 'cheer': 2524, 'edge': 973, 'withdraw': 1514, 'thoroughly': 2923, 'landmark': 2124, 'organization': 325, 'spend': 151, 'yankees': 778, 'ambassador': 2747, 'competitive': 1449, 'shape': 898, 'openly': 2999, 'elect': 835, 'alternative': 1162, 'wage': 1206, 'cut': 91, 'cup': 789, 'lady': 2595, 'admission': 1019, 'deputy': 1458, 'contractor': 2079, 'source': 780, 'exhibition': 760, 'snap': 2571, 'contrary': 2883, 'administrative': 2136, 'build': 149, 'complaint': 970, 'march': 1879, 'emergency': 1141, 'frame': 1828, 'big': 46, 'bid': 796, 'advocate': 962, 'game': 5, 'bit': 614, 'negotiator': 2322, 'formal': 1662, 'knock': 1812, 'confront': 2020, 'signal': 1199, 'ignore': 1384, 'collect': 1186, 'mirror': 2475, 'continue': 105, 'indication': 2261, 'popular': 623, 'essential': 1903, 'parade': 2664, 'absolutely': 2002, 'spring': 580, 'creation': 1770, 'bounce': 2841, 'economic': 284, 'speculation': 2426, 'sight': 1719, 'scandal': 1741, 'gradually': 2711, 'scale': 1075, 'pet': 2632, 'decision': 137, 'audience': 515, 'religion': 2132, 'eliminate': 1049, 'patient': 389, 'agreement': 280, 'stem': 1698, 'step': 281, 'abroad': 1952, 'vivid': 3005, 'faith': 1695, 'cautious': 3001, 'drama': 1799, 'range': 441, 'charm': 2639, 'replacement': 2139, 'block': 540, 'pollution': 2385, 'repair': 1436, 'plenty': 1882, 'reinforce': 2994, 'retailer': 1602, 'shed': 2845, 'democrat': 1216, 'appropriate': 1613, 'primarily': 1900, 'lesson': 1619, 'bankruptcy': 1892, 'span': 2867, 'spending': 698, 'apparently': 914, 'question': 80, 'fast': 683, 'custom': 2717, 'occupy': 1996, 'camera': 1053, 'suit': 487, 'forward': 749, 'renovation': 2737, 'translate': 2289, 'athlete': 1637, 'opponent': 845, 'manufacture': 2863, 'regulator': 1678, 'plunge': 2538, 'invite': 1172, 'jewish': 940, 'precise': 2979, 'slump': 2904, 'immigration': 1931, 'properly': 2806, 'link': 774, 'library': 1438, 'russian': 1134, 'subsidiary': 1843, 'line': 85, 'junior': 1845, 'raising': 2364, 'consist': 1977, 'mature': 2698, 'sum': 2470, 'highlight': 2165, 'medical': 539, 'possession': 2262, 'constant': 2360, 'bind': 2315, 'metal': 1454, 'influence': 850, 'entrance': 2026, 'coordinator': 2519, 'single': 323, 'warning': 1714, 'curb': 2649, 'rally': 1138, 'prevail': 2690, 'objection': 2702, 'ballot': 2005, 'peace': 547, 'legislator': 1587, 'occasional': 2539, 'application': 1554, 'definitely': 2325, 'transport': 2925, 'income': 390, 'department': 415, 'nice': 1307, 'draw': 365, 'reportedly': 2614, 'lend': 2494, 'enterprise': 2380, 'prosecution': 1825, 'resign': 1341, 'drag': 2449, 'reservation': 1439, 'cooperate': 2377, 'desert': 2819, 'structure': 987, 'ago': 57, 'land': 436, 'fighter': 2133, 'vice': 391, 'age': 241, 'scream': 2828, 'depth': 2672, 'leak': 2256, 'fresh': 876, 'convert': 2099, 'code': 1462, 'incorporate': 2782, 'resistance': 2231, 'existing': 2166, 'gang': 1645, 'adjustment': 2760, 'compose': 2696, 'uphold': 2607, 'concerned': 2964, 'young': 115, 'send': 186, 'literary': 2543, 'stable': 2314, 'fatal': 2901, 'friendly': 2203, 'ingredient': 2441, 'garden': 1215, 'wave': 1168, 'literally': 2943, 'accuse': 677, 'continued': 2785, 'wipe': 2948, 'arrange': 1530, 'entire': 847, 'stiff': 2956, 'marry': 754, 'shock': 1889, 'race': 263, 'inspection': 2493, 'ride': 842, 'pledge': 1671, 'crop': 1893, 'jump': 971, 'imply': 2993, 'video': 764, 'plead': 1876, 'odd': 1516, 'folk': 1887, 'index': 1259, 'power': 125, 'slight': 2533, 'cell': 1316, 'consistently': 2558, 'indian': 1425, 'currently': 1626, 'capital': 571, 'bird': 1810, 'exercise': 1211, 'body': 454, 'degree': 564, 'exchange': 819, 'commercial': 509, 'punch': 2444, 'explore': 1631, 'let': 260, 'sink': 2277, 'fulfill': 2989, 'sing': 920, 'extreme': 2300, 'great': 77, 'engage': 1447, 'talent': 1659, 'receive': 118, 'merger': 1479, 'survey': 912, 'defeat': 967, 'opinion': 924, 'climb': 1703, 'maker': 788, 'heart': 400, 'win': 40, 'manage': 544, 'private': 307, 'decrease': 2682, 'privately': 2384, 'composer': 1445, 'duck': 2187, 'apply': 725, 'ninth': 2321, 'cloud': 2549, 'standing': 2043, 'confidence': 1104, 'fee': 771, 'feb': 1066, 'stream': 2184, 'consumption': 2637, 'illegal': 1072, 'guideline': 2243, 'doubt': 944, 'examination': 2924, 'vehicle': 965, 'timing': 2515, 'toy': 2164, 'stage': 445, 'defendant': 1419, 'sort': 745, 'formally': 2860, 'tennis': 1953, 'patrol': 2305, 'musician': 1550, 'impress': 2508, 'missile': 1237, 'trail': 1450, 'train': 471, 'sharply': 1624, 'baby': 1073, 'actual': 2168, 'starter': 1729, 'charity': 2267, 'customer': 403, 'topic': 2381, 'account': 398, 'salad': 2018, 'challenge': 513, 'stroke': 1917, 'pour': 2234, 'recession': 1949, 'obvious': 1766, 'thin': 1757, 'praise': 1529, 'meet': 136, 'closing': 2121, 'institute': 2565, 'proof': 2356, 'control': 164, 'hip': 2316, 'tap': 2219, 'process': 334, 'lock': 1533, 'tax': 134, 'effectively': 2135, 'slip': 1560, 'wonderful': 1911, 'voice': 475, 'skirt': 2119, 'rape': 1430, 'native': 1558, 'dominant': 2858, 'practical': 2402, 'educational': 1878, 'democracy': 1519, 'sit': 371, 'six': 1318, 'arrangement': 1699, 'delay': 853, 'forest': 2060, 'animal': 1021, 'comedy': 1565, 'establishment': 2407, 'stock': 140, 'fare': 1153, 'tension': 1888, 'administrator': 1827, 'attend': 636, 'farm': 1181, 'stop': 230, 'act': 304, 'collection': 649, 'denounce': 2835, 'abuse': 820, 'ethnic': 1600, 'engineering': 2454, 'tomato': 1743, 'light': 322, 'counter': 1721, 'element': 1200, 'chief': 157, 'allow': 109, 'neglect': 2762, 'producer': 694, 'ambition': 2697, 'move': 37, 'costume': 1969, 'cruise': 2276, 'bunch': 2878, 'perfect': 1203, 'chemical': 1344, 'guerrilla': 2105, 'labor': 718, 'owe': 2611, 'willing': 934, 'choose': 407, 'orange': 1851, 'criminal': 750, 'crash': 1423, 'pure': 2827, 'auto': 2019, 'material': 628, 'bat': 1615, 'invitation': 2938, 'mention': 1030, 'cutting': 2859, 'courtroom': 2447, 'mandate': 2313, 'front': 338, 'republican': 253, 'investor': 500, 'realize': 900, 'presidential': 804, 'successor': 2488, 'thrill': 3003, 'profound': 2936, 'edit': 2100, 'university': 821, 'guard': 807, 'merge': 2832, 'slide': 1914, 'trap': 2899, 'truth': 1457, 'shortage': 2485, 'beneath': 2218, 'depression': 2192, 'profile': 2047, 'homeless': 1540, 'related': 1826, 'constitute': 2706, 'society': 747, 'books': 2922, 'measure': 410, 'differ': 2643, 'sexual': 946, 'wander': 2853, 'special': 329, 'category': 1906, 'sentiment': 2691, 'twice': 955, 'defend': 1022, 'closer': 2483, 'activist': 2754, 'freshman': 2557, 'lecture': 2479, 'postpone': 2748, 'cause': 254, 'red': 599, 'architecture': 2518, 'disclose': 1235, 'shut': 1520, 'await': 2291, 'southern': 1348, 'withdrawal': 2537, 'release': 271, 'completely': 1583, 'surely': 2336, 'tenant': 1448, 'yard': 790, 'hostile': 2714, 'spill': 2421, 'route': 1254, 'keep': 61, 'counterpart': 2920, 'conversation': 1212, 'length': 1359, 'birthday': 2480, 'retain': 1661, 'parallel': 2765, 'retail': 1276, 'housing': 690, 'south': 863, 'prospective': 2881, 'powerful': 923, 'scene': 577, 'echo': 2111, 'owner': 311, 'equity': 2017, 'precisely': 2601, 'quality': 625, 'disaster': 1547, 'legislative': 1720, 'management': 646, 'reference': 1670, 'strict': 2499, 'festival': 1840, 'unknown': 2657, 'demonstration': 1794, 'accent': 2808, 'system': 74, 'eighth': 1971, 'priority': 1929, 'attach': 2074, 'attack': 190, 'ton': 2150, 'perfectly': 2715, 'final': 273, 'painful': 2569, 'enforcement': 1391, 'shell': 2404, 'accompany': 1512, 'gear': 2850, 'punish': 2876, 'explanation': 2157, 'exactly': 1275, 'environmental': 1148, 'diminish': 2978, 'overwhelming': 2781, 'institution': 812, 'blind': 2764, 'neck': 2341, 'steel': 1568, 'photograph': 817, 'bother': 2439, 'bed': 1428, 'compensation': 2152, 'individual': 633, 'lover': 2301, 'sculpture': 1561, 'bet': 1960, 'exhibit': 2350, 'false': 1898, 'viewer': 1443, 'partnership': 1962, 'comfortable': 1606, 'tonight': 501, 'gentle': 2949, 'sidewalk': 2553, 'portrait': 1607, 'border': 933, 'clearly': 837, 'afraid': 2153, 'angle': 2928, 'agency': 180, 'able': 331, 'mid': 2763, 'incentive': 2063, 'mix': 950, 'tactic': 2146, 'truck': 1037, 'soar': 2546, 'worldwide': 2212, 'agenda': 1959, 'combat': 2175, 'dutch': 2332, 'useful': 2528, 'eight': 2437, 'preliminary': 2666, 'device': 1077, 'sophisticated': 2591, 'segment': 2368, 'class': 282, 'delivery': 1735, 'deny': 678, 'gather': 1169, 'request': 655, 'disease': 932, 'face': 135, 'gesture': 2435, 'occasion': 1958, 'painting': 744, 'fact': 203, 'affair': 980, 'atmosphere': 1945, 'selection': 1466, 'violation': 1608, 'text': 1938, 'anyway': 2179, 'bring': 106, 'planning': 1711, 'democrats': 565, 'bedroom': 1598, 'chicken': 1111, 'economist': 1223, 'supporter': 1010, 'decade': 343, 'staff': 446, 'squeeze': 2560, 'based': 981, 'knowledge': 1727, 'tire': 2825, 'winner': 1035, 'employer': 1522, 'unable': 1696, 'tape': 1392, 'employee': 378, 'piano': 1793, 'handsome': 2985, 'local': 179, 'achieve': 1076, 'regularly': 2158, 'handle': 726, 'means': 2910, 'beat': 510, 'familiar': 1146, 'photography': 2572, 'hire': 752, 'bear': 518, 'listener': 2783, 'joint': 1534, 'fraud': 1679, 'legitimate': 2665, 'consecutive': 1839, 'buyer': 1327, 'spur': 3004, 'endless': 2951, 'gray': 1881, 'evident': 2495, 'brain': 1814, 'shy': 2959, 'stuff': 1311, 'allegation': 1672, 'contain': 909, 'grab': 2183, 'view': 210, 'requirement': 1527, 'temporarily': 2767, 'national': 221, 'shake': 1544, 'immigrant': 1190, 'edition': 2547, 'intensity': 2890, 'computer': 265, 'desperate': 2893, 'philosophy': 2436, 'danger': 1475, 'wire': 1778, 'nationwide': 1943, 'reform': 1009, 'nuclear': 686, 'tend': 1008, 'favor': 746, 'state': 2, 'closed': 2866, 'routine': 2374, 'progress': 1170, 'midnight': 2430, 'sole': 2940, 'explosive': 2654, 'ability': 802, 'opening': 855, 'importance': 1627, 'joy': 2932, 'deliver': 818, 'job': 66, 'takeover': 2092, 'key': 828, 'group': 10, 'lawsuit': 958, 'distribution': 1896, 'monitor': 1397, 'grass': 2268, 'drum': 2720, 'career': 366, 'joke': 1956, 'equal': 1571, 'drug': 100, 'assure': 1708, 'admit': 1028, 'comment': 457, 'detailed': 2122, 'unclear': 2349, 'conclude': 1004, 'wall': 581, 'walk': 315, 'distinguish': 3008, 'indict': 2678, 'laugh': 1574, 'cousin': 2843, 'table': 693, 'winning': 1869, 'earning': 1196, 'quit': 2216, 'outsider': 2722, 'platform': 2669, 'addition': 663, 'discrimination': 2631, 'cent': 974, 'permanent': 1855, 'slowly': 1835, 'treat': 758, 'entitle': 2704, 'poet': 2487, 'proposal': 353, 'kitchen': 1052, 'define': 1333, 'diversity': 2816, 'sufficient': 2805, 'essentially': 1811, 'scrutiny': 2909, 'assert': 1399, 'fellow': 1390, 'present': 276, 'volunteer': 1470, 'novel': 822, 'imagination': 2749, 'plain': 2174, 'appearance': 1011, 'value': 363, 'specifically': 2390, 'influential': 2644, 'fault': 2282, 'wild': 1293, 'layer': 2037, 'barely': 1803, 'resident': 330, 'site': 219, 'surface': 1171, 'optimistic': 2604, 'lifetime': 2689, 'partner': 553, 'inspector': 1939, 'halt': 1967, 'portray': 2036, 'capture': 1145, 'terrorist': 1061, 'administration': 339, 'cross': 862, 'campus': 1354, 'member': 32, 'strange': 2196, 'speaker': 1733, 'largest': 2831, 'inch': 885, 'party': 120, 'negotiate': 978, 'cream': 1712, 'difficult': 497, 'ball': 486, 'absorb': 2514, 'drink': 985, 'disagree': 2418, 'effect': 333, 'student': 58, 'dust': 2708, 'frequently': 1618, 'toll': 2236, 'judgment': 1693, 'lobby': 1577, 'expand': 826, 'destruction': 2575, 'insure': 1979, 'expense': 1132, 'center': 166, 'lunch': 1284, 'weapon': 567, 'contest': 1748, 'fighting': 2674, 'thought': 1407, 'banker': 1838, 'command': 1525, 'english': 1144, 'position': 306, 'muscle': 1932, 'soviet': 688, 'drawing': 1860, 'usual': 1473, 'restore': 1241, 'routinely': 2740, 'heavily': 1572, 'increasingly': 1193, 'offensive': 1429, 'accurate': 2812, 'executive': 69, 'domestic': 1054, 'obtain': 1310, 'storey': 1085, 'clinic': 1919, 'distant': 2889, 'tone': 1400, 'skill': 1418, 'graduate': 433, 'transportation': 1756, 'rescue': 2006, 'generous': 2699, 'rapid': 2671, 'tight': 1496, 'flee': 1831, 'supply': 763, 'sky': 2112, 'hall': 1492, 'arrest': 558, 'add': 41, 'combine': 1251, 'attractive': 2116, 'citizen': 1175, 'smart': 2269, 'advanced': 2459, 'match': 604, 'boom': 2177, 'sick': 2257, 'fate': 2094, 'government': 15, 'priest': 1764, 'execute': 2505, 'historic': 1489, 'five': 991, 'burden': 1994, 'desk': 2373, 'press': 478, 'immediately': 947, 'prominent': 1686, 'loss': 283, 'necessary': 1002, 'helpful': 3007, 'success': 672, 'garage': 1588, 'journalist': 1485, 'lose': 90, 'soft': 1315, 'page': 482, 'italian': 992, 'amendment': 2076, 'exceed': 2073, 'classical': 2129, 'church': 631, 'authority': 432, 'hair': 1366, 'growth': 570, 'export': 1569, 'convey': 2638, 'recommendation': 1728, 'proper': 2096, 'home': 16, 'empire': 2791, 'employment': 1986, 'recognition': 2213, 'competitor': 1875, 'broad': 949, 'avoid': 706, 'lean': 2378, 'constantly': 2736, 'leap': 2628, 'sustain': 2496, 'passion': 2081, 'leader': 84, 'locate': 2695, 'pepper': 1074, 'noise': 2198, 'schedule': 413, 'journal': 2491, 'expansion': 1543, 'pressure': 422, 'host': 1197, 'expire': 2408, 'frustrate': 2896, 'panel': 702, 'sister': 1264, 'rare': 1187, 'extension': 2634, 'linger': 2992, 'column': 1424, 'freedom': 1410, 'surge': 1885, 'monthly': 2190, 'carrier': 1477, 'evoke': 2774, 'concession': 2587, 'revise': 2596, 'software': 1109, 'equally': 1974, 'alliance': 1824, 'previously': 1478, 'uncertain': 2824, 'commitment': 1305, 'assess': 2620, 'playoff': 1121, 'weather': 1183, 'promise': 575, 'brush': 2317, 'female': 1375, 'luck': 2545, 'lovely': 2984, 'mere': 2775, 'utility': 2091, 'yorkers': 1788, 'additional': 859, 'confident': 2167, 'transfer': 1299, 'museum': 578, 'outline': 2369, 'reduction': 1415, 'intention': 1995, 'airline': 889, 'inner': 2260, 'frustration': 2235, 'naturally': 2972, 'function': 1801, 'building': 121, 'buy': 112, 'north': 851, 'stadium': 2008, 'aircraft': 1789, 'bus': 888, 'brand': 1336, 'volume': 1356, 'construction': 805, 'gain': 386, 'ear': 2217, 'eat': 741, 'count': 769, 'made': 2895, 'wise': 2744, 'hitter': 1922, 'wish': 1188, 'official': 4, 'smooth': 2159, 'record': 123, 'convince': 1774, 'limit': 429, 'ruling': 906, 'demonstrate': 1244, 'problem': 59, 'piece': 361, 'display': 723, 'irish': 2039, 'devise': 2929, 'recognize': 989, 'contribute': 1239, 'twist': 2617, 'partly': 1573, 'education': 409, 'pit': 2908, 'girl': 483, 'diplomat': 1481, 'variety': 1126, 'corporation': 1590, 'percent': 1, 'detail': 671, 'lately': 2851, 'book': 101, 'witness': 871, 'branch': 1532, 'wing': 1322, 'conclusion': 1872, 'republicans': 836, 'star': 438, 'variation': 2818, 'stay': 399, 'chance': 368, 'basement': 2021, 'exposure': 2214, 'appoint': 1260, 'entertainment': 1769, 'rule': 207, 'portion': 1822, 'craft': 2386, 'compete': 1033, 'pension': 2171, 'rural': 1786}\n"
          ],
          "name": "stdout"
        }
      ]
    },
    {
      "metadata": {
        "id": "qhHn1gdiPZ7X",
        "colab_type": "code",
        "colab": {}
      },
      "cell_type": "code",
      "source": [
        "# Guided LDA with seed topics. \n",
        "# Seed word: ASC <20으로 유사하게 설정\n",
        "seed_topic_list = [['fix', 'update', 'typo', 'version', 'release', 'add', 'typos','minor','fixed','notes','docs','updating','code','xla','readme','documentation','branch','error','image'], #Software development,\n",
        "                   ['build', 'windows', 'cmake', 'model', 'tests', 'disable', 'support', 'file','make','bazel','input','builds','ops','compilation','mnist','keras','estimator','use','dataset'], #Project,\n",
        "                   ['mkl', 'link', 'intel', 'broken', 'opencl', 'dnn','docker','tutorial','graph','test','install','remove','example','gpu','cuda','pip','links','adding','python','batch','tensorflow','softmax'], #Ecosystem,\n",
        "                   ['merge', 'msater', 'changes', 'pull', 'internal', 'reuqest', 'back', 'upstream', 'github', 'cherrpicks', 'merging', 'push', 'testing', 'revert', 'issues']] #Users\n",
        "\n",
        "model = guidedlda.GuidedLDA(n_topics=4, n_iter=100, random_state=7, refresh=20)"
      ],
      "execution_count": 0,
      "outputs": []
    },
    {
      "metadata": {
        "colab_type": "code",
        "outputId": "eb5a246e-91f9-48b1-ca35-f5594a356481",
        "id": "eeHMXhExR6_P",
        "colab": {
          "base_uri": "https://localhost:8080/",
          "height": 198
        }
      },
      "cell_type": "code",
      "source": [
        "seed_topics = {}\n",
        "for t_id, st in enumerate(seed_topic_list):\n",
        "    for word in st:\n",
        "        seed_topics[word2id[word]] = t_id"
      ],
      "execution_count": 0,
      "outputs": [
        {
          "output_type": "error",
          "ename": "KeyError",
          "evalue": "ignored",
          "traceback": [
            "\u001b[0;31m\u001b[0m",
            "\u001b[0;31mKeyError\u001b[0mTraceback (most recent call last)",
            "\u001b[0;32m<ipython-input-19-775f7d3fcd1d>\u001b[0m in \u001b[0;36m<module>\u001b[0;34m()\u001b[0m\n\u001b[1;32m      2\u001b[0m \u001b[0;32mfor\u001b[0m \u001b[0mt_id\u001b[0m\u001b[0;34m,\u001b[0m \u001b[0mst\u001b[0m \u001b[0;32min\u001b[0m \u001b[0menumerate\u001b[0m\u001b[0;34m(\u001b[0m\u001b[0mseed_topic_list\u001b[0m\u001b[0;34m)\u001b[0m\u001b[0;34m:\u001b[0m\u001b[0;34m\u001b[0m\u001b[0m\n\u001b[1;32m      3\u001b[0m     \u001b[0;32mfor\u001b[0m \u001b[0mword\u001b[0m \u001b[0;32min\u001b[0m \u001b[0mst\u001b[0m\u001b[0;34m:\u001b[0m\u001b[0;34m\u001b[0m\u001b[0m\n\u001b[0;32m----> 4\u001b[0;31m         \u001b[0mseed_topics\u001b[0m\u001b[0;34m[\u001b[0m\u001b[0mword2id\u001b[0m\u001b[0;34m[\u001b[0m\u001b[0mword\u001b[0m\u001b[0;34m]\u001b[0m\u001b[0;34m]\u001b[0m \u001b[0;34m=\u001b[0m \u001b[0mt_id\u001b[0m\u001b[0;34m\u001b[0m\u001b[0m\n\u001b[0m",
            "\u001b[0;31mKeyError\u001b[0m: 'typo'"
          ]
        }
      ]
    },
    {
      "metadata": {
        "colab_type": "code",
        "outputId": "fbf7f5ab-ecd4-42a8-94c4-c63550915b05",
        "id": "a7YStjs9R-AP",
        "colab": {
          "base_uri": "https://localhost:8080/",
          "height": 307
        }
      },
      "cell_type": "code",
      "source": [
        "model.fit(df, seed_topics=seed_topics, seed_confidence=0.15)"
      ],
      "execution_count": 0,
      "outputs": [
        {
          "output_type": "error",
          "ename": "TypeError",
          "evalue": "ignored",
          "traceback": [
            "\u001b[0;31m\u001b[0m",
            "\u001b[0;31mTypeError\u001b[0mTraceback (most recent call last)",
            "\u001b[0;32m<ipython-input-21-56e09d156503>\u001b[0m in \u001b[0;36m<module>\u001b[0;34m()\u001b[0m\n\u001b[0;32m----> 1\u001b[0;31m \u001b[0mmodel\u001b[0m\u001b[0;34m.\u001b[0m\u001b[0mfit\u001b[0m\u001b[0;34m(\u001b[0m\u001b[0mdf\u001b[0m\u001b[0;34m,\u001b[0m \u001b[0mseed_topics\u001b[0m\u001b[0;34m=\u001b[0m\u001b[0mseed_topics\u001b[0m\u001b[0;34m,\u001b[0m \u001b[0mseed_confidence\u001b[0m\u001b[0;34m=\u001b[0m\u001b[0;36m0.15\u001b[0m\u001b[0;34m)\u001b[0m\u001b[0;34m\u001b[0m\u001b[0m\n\u001b[0m",
            "\u001b[0;32m/usr/local/lib/python2.7/dist-packages/guidedlda/guidedlda.pyc\u001b[0m in \u001b[0;36mfit\u001b[0;34m(self, X, y, seed_topics, seed_confidence)\u001b[0m\n\u001b[1;32m    129\u001b[0m         \"\"\"\n\u001b[1;32m    130\u001b[0m \u001b[0;34m\u001b[0m\u001b[0m\n\u001b[0;32m--> 131\u001b[0;31m         \u001b[0mself\u001b[0m\u001b[0;34m.\u001b[0m\u001b[0m_fit\u001b[0m\u001b[0;34m(\u001b[0m\u001b[0mX\u001b[0m\u001b[0;34m,\u001b[0m \u001b[0mseed_topics\u001b[0m\u001b[0;34m=\u001b[0m\u001b[0mseed_topics\u001b[0m\u001b[0;34m,\u001b[0m \u001b[0mseed_confidence\u001b[0m\u001b[0;34m=\u001b[0m\u001b[0mseed_confidence\u001b[0m\u001b[0;34m)\u001b[0m\u001b[0;34m\u001b[0m\u001b[0m\n\u001b[0m\u001b[1;32m    132\u001b[0m         \u001b[0;32mreturn\u001b[0m \u001b[0mself\u001b[0m\u001b[0;34m\u001b[0m\u001b[0m\n\u001b[1;32m    133\u001b[0m \u001b[0;34m\u001b[0m\u001b[0m\n",
            "\u001b[0;32m/usr/local/lib/python2.7/dist-packages/guidedlda/guidedlda.pyc\u001b[0m in \u001b[0;36m_fit\u001b[0;34m(self, X, seed_topics, seed_confidence)\u001b[0m\n\u001b[1;32m    239\u001b[0m         \u001b[0mrands\u001b[0m \u001b[0;34m=\u001b[0m \u001b[0mself\u001b[0m\u001b[0;34m.\u001b[0m\u001b[0m_rands\u001b[0m\u001b[0;34m.\u001b[0m\u001b[0mcopy\u001b[0m\u001b[0;34m(\u001b[0m\u001b[0;34m)\u001b[0m\u001b[0;34m\u001b[0m\u001b[0m\n\u001b[1;32m    240\u001b[0m \u001b[0;34m\u001b[0m\u001b[0m\n\u001b[0;32m--> 241\u001b[0;31m         \u001b[0mself\u001b[0m\u001b[0;34m.\u001b[0m\u001b[0m_initialize\u001b[0m\u001b[0;34m(\u001b[0m\u001b[0mX\u001b[0m\u001b[0;34m,\u001b[0m \u001b[0mseed_topics\u001b[0m\u001b[0;34m,\u001b[0m \u001b[0mseed_confidence\u001b[0m\u001b[0;34m)\u001b[0m\u001b[0;34m\u001b[0m\u001b[0m\n\u001b[0m\u001b[1;32m    242\u001b[0m         \u001b[0;32mfor\u001b[0m \u001b[0mit\u001b[0m \u001b[0;32min\u001b[0m \u001b[0mrange\u001b[0m\u001b[0;34m(\u001b[0m\u001b[0mself\u001b[0m\u001b[0;34m.\u001b[0m\u001b[0mn_iter\u001b[0m\u001b[0;34m)\u001b[0m\u001b[0;34m:\u001b[0m\u001b[0;34m\u001b[0m\u001b[0m\n\u001b[1;32m    243\u001b[0m             \u001b[0;31m# FIXME: using numpy.roll with a random shift might be faster\u001b[0m\u001b[0;34m\u001b[0m\u001b[0;34m\u001b[0m\u001b[0m\n",
            "\u001b[0;32m/usr/local/lib/python2.7/dist-packages/guidedlda/guidedlda.pyc\u001b[0m in \u001b[0;36m_initialize\u001b[0;34m(self, X, seed_topics, seed_confidence)\u001b[0m\n\u001b[1;32m    277\u001b[0m         \"\"\"\n\u001b[1;32m    278\u001b[0m         \u001b[0mD\u001b[0m\u001b[0;34m,\u001b[0m \u001b[0mW\u001b[0m \u001b[0;34m=\u001b[0m \u001b[0mX\u001b[0m\u001b[0;34m.\u001b[0m\u001b[0mshape\u001b[0m\u001b[0;34m\u001b[0m\u001b[0m\n\u001b[0;32m--> 279\u001b[0;31m         \u001b[0mN\u001b[0m \u001b[0;34m=\u001b[0m \u001b[0mint\u001b[0m\u001b[0;34m(\u001b[0m\u001b[0mX\u001b[0m\u001b[0;34m.\u001b[0m\u001b[0msum\u001b[0m\u001b[0;34m(\u001b[0m\u001b[0;34m)\u001b[0m\u001b[0;34m)\u001b[0m\u001b[0;34m\u001b[0m\u001b[0m\n\u001b[0m\u001b[1;32m    280\u001b[0m         \u001b[0mn_topics\u001b[0m \u001b[0;34m=\u001b[0m \u001b[0mself\u001b[0m\u001b[0;34m.\u001b[0m\u001b[0mn_topics\u001b[0m\u001b[0;34m\u001b[0m\u001b[0m\n\u001b[1;32m    281\u001b[0m         \u001b[0mn_iter\u001b[0m \u001b[0;34m=\u001b[0m \u001b[0mself\u001b[0m\u001b[0;34m.\u001b[0m\u001b[0mn_iter\u001b[0m\u001b[0;34m\u001b[0m\u001b[0m\n",
            "\u001b[0;32m/usr/local/lib/python2.7/dist-packages/pandas/core/series.pyc\u001b[0m in \u001b[0;36mwrapper\u001b[0;34m(self)\u001b[0m\n\u001b[1;32m     91\u001b[0m             \u001b[0;32mreturn\u001b[0m \u001b[0mconverter\u001b[0m\u001b[0;34m(\u001b[0m\u001b[0mself\u001b[0m\u001b[0;34m.\u001b[0m\u001b[0miloc\u001b[0m\u001b[0;34m[\u001b[0m\u001b[0;36m0\u001b[0m\u001b[0;34m]\u001b[0m\u001b[0;34m)\u001b[0m\u001b[0;34m\u001b[0m\u001b[0m\n\u001b[1;32m     92\u001b[0m         raise TypeError(\"cannot convert the series to \"\n\u001b[0;32m---> 93\u001b[0;31m                         \"{0}\".format(str(converter)))\n\u001b[0m\u001b[1;32m     94\u001b[0m \u001b[0;34m\u001b[0m\u001b[0m\n\u001b[1;32m     95\u001b[0m     \u001b[0mwrapper\u001b[0m\u001b[0;34m.\u001b[0m\u001b[0m__name__\u001b[0m \u001b[0;34m=\u001b[0m \u001b[0;34m\"__{name}__\"\u001b[0m\u001b[0;34m.\u001b[0m\u001b[0mformat\u001b[0m\u001b[0;34m(\u001b[0m\u001b[0mname\u001b[0m\u001b[0;34m=\u001b[0m\u001b[0mconverter\u001b[0m\u001b[0;34m.\u001b[0m\u001b[0m__name__\u001b[0m\u001b[0;34m)\u001b[0m\u001b[0;34m\u001b[0m\u001b[0m\n",
            "\u001b[0;31mTypeError\u001b[0m: cannot convert the series to <type 'int'>"
          ]
        }
      ]
    }
  ]
}